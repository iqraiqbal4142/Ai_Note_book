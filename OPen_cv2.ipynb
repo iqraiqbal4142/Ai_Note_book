{
  "nbformat": 4,
  "nbformat_minor": 0,
  "metadata": {
    "colab": {
      "provenance": [],
      "authorship_tag": "ABX9TyPyaXRBRwIi9mObSCbEUpIc",
      "include_colab_link": true
    },
    "kernelspec": {
      "name": "python3",
      "display_name": "Python 3"
    },
    "language_info": {
      "name": "python"
    }
  },
  "cells": [
    {
      "cell_type": "markdown",
      "metadata": {
        "id": "view-in-github",
        "colab_type": "text"
      },
      "source": [
        "<a href=\"https://colab.research.google.com/github/iqraiqbal4142/Ai_Note_book/blob/main/OPen_cv2.ipynb\" target=\"_parent\"><img src=\"https://colab.research.google.com/assets/colab-badge.svg\" alt=\"Open In Colab\"/></a>"
      ]
    },
    {
      "cell_type": "code",
      "source": [
        "import cv2\n",
        "import numpy as np\n",
        "from tensorflow.keras.applications import MobileNetV2\n",
        "from tensorflow.keras.applications.mobilenet_v2 import preprocess_input, decode_predictions"
      ],
      "metadata": {
        "id": "zdAy__DA-TiC"
      },
      "execution_count": null,
      "outputs": []
    },
    {
      "cell_type": "code",
      "source": [
        "import cv2\n",
        "import numpy as np\n",
        "\n",
        "# Initialize video capture from the default camera (camera index 0)\n",
        "cap = cv2.VideoCapture(0)\n",
        "\n",
        "while True:\n",
        "    # Read a frame from the webcam\n",
        "    ret, frame = cap.read()\n",
        "\n",
        "    if not ret:\n",
        "        break  # Exit the loop if frame retrieval fails\n",
        "\n",
        "    # Convert the frame from BGR to HSV color space\n",
        "    hsv_frame = cv2.cvtColor(frame, cv2.COLOR_BGR2HSV)\n",
        "\n",
        "    # Define the range of red color in HSV\n",
        "    lower_red = np.array([0, 100, 100])\n",
        "    upper_red = np.array([10, 255, 255])\n",
        "\n",
        "    # Define the range of blue color in HSV\n",
        "    lower_blue = np.array([110, 100, 100])\n",
        "    upper_blue = np.array([130, 255, 255])\n",
        "\n",
        "    # Create masks for red and blue color detection\n",
        "    mask_red = cv2.inRange(hsv_frame, lower_red, upper_red)\n",
        "    mask_blue = cv2.inRange(hsv_frame, lower_blue, upper_blue)\n",
        "\n",
        "    # Apply bitwise AND to the original frame using the masks\n",
        "    result_red = cv2.bitwise_and(frame, frame, mask=mask_red)\n",
        "    result_blue = cv2.bitwise_and(frame, frame, mask=mask_blue)\n",
        "\n",
        "    # Combine both results to show both red and blue objects\n",
        "    result = cv2.add(result_red, result_blue)\n",
        "\n",
        "    # Display the resulting frame\n",
        "    cv2.imshow(\"Object Detection\", result)\n",
        "\n",
        "    # Break the loop if 'q' is pressed\n",
        "    if cv2.waitKey(1) & 0xFF == ord(\"q\"):\n",
        "        break\n",
        "\n",
        "# Release the webcam and close the OpenCV window\n",
        "cap.release()\n",
        "cv2.destroyAllWindows()\n"
      ],
      "metadata": {
        "id": "2LJYBjpsAPOm"
      },
      "execution_count": null,
      "outputs": []
    }
  ]
}