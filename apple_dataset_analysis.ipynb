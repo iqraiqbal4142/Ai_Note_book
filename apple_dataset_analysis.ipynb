{
  "cells": [
    {
      "cell_type": "markdown",
      "id": "30dcaff5",
      "metadata": {
        "_cell_guid": "b1076dfc-b9ad-4769-8c92-a6c4dae69d19",
        "_uuid": "8f2839f25d086af736a60e9eeb907d3b93b6e0e5",
        "papermill": {
          "duration": 0.045984,
          "end_time": "2023-08-18T14:57:39.557913",
          "exception": false,
          "start_time": "2023-08-18T14:57:39.511929",
          "status": "completed"
        },
        "tags": [],
        "id": "30dcaff5"
      },
      "source": [
        "1.0 About Author\n",
        "Project: Apple App Store Data\n",
        "Author: Iqra Iqbal\n",
        "Code Submission Date: 17-08-2023\n",
        "Author's Contact Info: [iqra.iqbal414@gmail.com](iqra.iqbal414@gmail.com)"
      ]
    },
    {
      "cell_type": "markdown",
      "id": "d9f9acb5",
      "metadata": {
        "papermill": {
          "duration": 0.040964,
          "end_time": "2023-08-18T14:57:39.640522",
          "exception": false,
          "start_time": "2023-08-18T14:57:39.599558",
          "status": "completed"
        },
        "tags": [],
        "id": "d9f9acb5"
      },
      "source": [
        "# Project: Apple App Store Data Analysis\n",
        "\n",
        "- **Author:** Iqra Iqbal\n",
        "- **Code Submission Date:** 16-08-2023\n",
        "\n",
        "## Author's Contact Info:\n",
        "- Email  iqra.iqbal4142@gmail.com\n",
        "- [Github] https://github.com/iqraiqbal4142\n",
        "- [LinkedIn] (https://www.linkedin.com/in/iqra-iqbal-71b196287\n",
        "\n"
      ]
    },
    {
      "cell_type": "code",
      "execution_count": null,
      "id": "aaa1460d",
      "metadata": {
        "execution": {
          "iopub.execute_input": "2023-08-18T14:57:39.724198Z",
          "iopub.status.busy": "2023-08-18T14:57:39.723561Z",
          "iopub.status.idle": "2023-08-18T14:57:42.573272Z",
          "shell.execute_reply": "2023-08-18T14:57:42.571786Z"
        },
        "papermill": {
          "duration": 2.895452,
          "end_time": "2023-08-18T14:57:42.576634",
          "exception": false,
          "start_time": "2023-08-18T14:57:39.681182",
          "status": "completed"
        },
        "tags": [],
        "id": "aaa1460d",
        "outputId": "e3197a67-1c56-406d-fe50-4dcc6a14ec29"
      },
      "outputs": [
        {
          "name": "stderr",
          "output_type": "stream",
          "text": [
            "/opt/conda/lib/python3.10/site-packages/scipy/__init__.py:146: UserWarning: A NumPy version >=1.16.5 and <1.23.0 is required for this version of SciPy (detected version 1.23.5\n",
            "  warnings.warn(f\"A NumPy version >={np_minversion} and <{np_maxversion}\"\n"
          ]
        }
      ],
      "source": [
        "import pandas as pd\n",
        "import numpy as np\n",
        "import matplotlib.pyplot as plt\n",
        "import seaborn as sns\n",
        "import plotly.express as px\n",
        "import scipy\n",
        "import warnings"
      ]
    },
    {
      "cell_type": "code",
      "execution_count": null,
      "id": "3a22d618",
      "metadata": {
        "execution": {
          "iopub.execute_input": "2023-08-18T14:57:42.660444Z",
          "iopub.status.busy": "2023-08-18T14:57:42.659927Z",
          "iopub.status.idle": "2023-08-18T14:58:02.509316Z",
          "shell.execute_reply": "2023-08-18T14:58:02.508047Z"
        },
        "papermill": {
          "duration": 19.894806,
          "end_time": "2023-08-18T14:58:02.512328",
          "exception": false,
          "start_time": "2023-08-18T14:57:42.617522",
          "status": "completed"
        },
        "tags": [],
        "id": "3a22d618"
      },
      "outputs": [],
      "source": [
        "#Load dataset\n",
        "df = pd.read_csv(\"/kaggle/input/apple-appstore-apps/appleAppData.csv\")"
      ]
    },
    {
      "cell_type": "code",
      "execution_count": null,
      "id": "89c6b98a",
      "metadata": {
        "execution": {
          "iopub.execute_input": "2023-08-18T14:58:02.599203Z",
          "iopub.status.busy": "2023-08-18T14:58:02.598742Z",
          "iopub.status.idle": "2023-08-18T14:58:02.645566Z",
          "shell.execute_reply": "2023-08-18T14:58:02.644289Z"
        },
        "papermill": {
          "duration": 0.093382,
          "end_time": "2023-08-18T14:58:02.648455",
          "exception": false,
          "start_time": "2023-08-18T14:58:02.555073",
          "status": "completed"
        },
        "tags": [],
        "id": "89c6b98a",
        "outputId": "5a630783-8c6d-467c-c6a2-aa266835f8fb"
      },
      "outputs": [
        {
          "data": {
            "text/html": [
              "<div>\n",
              "<style scoped>\n",
              "    .dataframe tbody tr th:only-of-type {\n",
              "        vertical-align: middle;\n",
              "    }\n",
              "\n",
              "    .dataframe tbody tr th {\n",
              "        vertical-align: top;\n",
              "    }\n",
              "\n",
              "    .dataframe thead th {\n",
              "        text-align: right;\n",
              "    }\n",
              "</style>\n",
              "<table border=\"1\" class=\"dataframe\">\n",
              "  <thead>\n",
              "    <tr style=\"text-align: right;\">\n",
              "      <th></th>\n",
              "      <th>App_Id</th>\n",
              "      <th>App_Name</th>\n",
              "      <th>AppStore_Url</th>\n",
              "      <th>Primary_Genre</th>\n",
              "      <th>Content_Rating</th>\n",
              "      <th>Size_Bytes</th>\n",
              "      <th>Required_IOS_Version</th>\n",
              "      <th>Released</th>\n",
              "      <th>Updated</th>\n",
              "      <th>Version</th>\n",
              "      <th>...</th>\n",
              "      <th>Currency</th>\n",
              "      <th>Free</th>\n",
              "      <th>DeveloperId</th>\n",
              "      <th>Developer</th>\n",
              "      <th>Developer_Url</th>\n",
              "      <th>Developer_Website</th>\n",
              "      <th>Average_User_Rating</th>\n",
              "      <th>Reviews</th>\n",
              "      <th>Current_Version_Score</th>\n",
              "      <th>Current_Version_Reviews</th>\n",
              "    </tr>\n",
              "  </thead>\n",
              "  <tbody>\n",
              "    <tr>\n",
              "      <th>0</th>\n",
              "      <td>com.hkbu.arc.apaper</td>\n",
              "      <td>A+ Paper Guide</td>\n",
              "      <td>https://apps.apple.com/us/app/a-paper-guide/id...</td>\n",
              "      <td>Education</td>\n",
              "      <td>4+</td>\n",
              "      <td>21993472.0</td>\n",
              "      <td>8.0</td>\n",
              "      <td>2017-09-28T03:02:41Z</td>\n",
              "      <td>2018-12-21T21:30:36Z</td>\n",
              "      <td>1.1.2</td>\n",
              "      <td>...</td>\n",
              "      <td>USD</td>\n",
              "      <td>True</td>\n",
              "      <td>1375410542</td>\n",
              "      <td>HKBU ARC</td>\n",
              "      <td>https://apps.apple.com/us/developer/hkbu-arc/i...</td>\n",
              "      <td>NaN</td>\n",
              "      <td>0.0</td>\n",
              "      <td>0</td>\n",
              "      <td>0.0</td>\n",
              "      <td>0</td>\n",
              "    </tr>\n",
              "    <tr>\n",
              "      <th>1</th>\n",
              "      <td>com.dmitriev.abooks</td>\n",
              "      <td>A-Books</td>\n",
              "      <td>https://apps.apple.com/us/app/a-books/id103157...</td>\n",
              "      <td>Book</td>\n",
              "      <td>4+</td>\n",
              "      <td>13135872.0</td>\n",
              "      <td>10.0</td>\n",
              "      <td>2015-08-31T19:31:32Z</td>\n",
              "      <td>2019-07-23T20:31:09Z</td>\n",
              "      <td>1.3</td>\n",
              "      <td>...</td>\n",
              "      <td>USD</td>\n",
              "      <td>True</td>\n",
              "      <td>1031572001</td>\n",
              "      <td>Roman Dmitriev</td>\n",
              "      <td>https://apps.apple.com/us/developer/roman-dmit...</td>\n",
              "      <td>NaN</td>\n",
              "      <td>5.0</td>\n",
              "      <td>1</td>\n",
              "      <td>5.0</td>\n",
              "      <td>1</td>\n",
              "    </tr>\n",
              "    <tr>\n",
              "      <th>2</th>\n",
              "      <td>no.terp.abooks</td>\n",
              "      <td>A-books</td>\n",
              "      <td>https://apps.apple.com/us/app/a-books/id145702...</td>\n",
              "      <td>Book</td>\n",
              "      <td>4+</td>\n",
              "      <td>21943296.0</td>\n",
              "      <td>9.0</td>\n",
              "      <td>2021-04-14T07:00:00Z</td>\n",
              "      <td>2021-05-30T21:08:54Z</td>\n",
              "      <td>1.3.1</td>\n",
              "      <td>...</td>\n",
              "      <td>USD</td>\n",
              "      <td>True</td>\n",
              "      <td>1457024163</td>\n",
              "      <td>Terp AS</td>\n",
              "      <td>https://apps.apple.com/us/developer/terp-as/id...</td>\n",
              "      <td>NaN</td>\n",
              "      <td>0.0</td>\n",
              "      <td>0</td>\n",
              "      <td>0.0</td>\n",
              "      <td>0</td>\n",
              "    </tr>\n",
              "    <tr>\n",
              "      <th>3</th>\n",
              "      <td>fr.antoinettefleur.Book1</td>\n",
              "      <td>A-F Book #1</td>\n",
              "      <td>https://apps.apple.com/us/app/a-f-book-1/id500...</td>\n",
              "      <td>Book</td>\n",
              "      <td>4+</td>\n",
              "      <td>81851392.0</td>\n",
              "      <td>8.0</td>\n",
              "      <td>2012-02-10T03:40:07Z</td>\n",
              "      <td>2019-10-29T12:40:37Z</td>\n",
              "      <td>1.2</td>\n",
              "      <td>...</td>\n",
              "      <td>USD</td>\n",
              "      <td>False</td>\n",
              "      <td>439568839</td>\n",
              "      <td>i-editeur.com</td>\n",
              "      <td>https://apps.apple.com/us/developer/i-editeur-...</td>\n",
              "      <td>NaN</td>\n",
              "      <td>0.0</td>\n",
              "      <td>0</td>\n",
              "      <td>0.0</td>\n",
              "      <td>0</td>\n",
              "    </tr>\n",
              "    <tr>\n",
              "      <th>4</th>\n",
              "      <td>com.imonstersoft.azdictionaryios</td>\n",
              "      <td>A-Z Synonyms Dictionary</td>\n",
              "      <td>https://apps.apple.com/us/app/a-z-synonyms-dic...</td>\n",
              "      <td>Reference</td>\n",
              "      <td>4+</td>\n",
              "      <td>64692224.0</td>\n",
              "      <td>9.0</td>\n",
              "      <td>2020-12-16T08:00:00Z</td>\n",
              "      <td>2020-12-18T21:36:11Z</td>\n",
              "      <td>1.0.1</td>\n",
              "      <td>...</td>\n",
              "      <td>USD</td>\n",
              "      <td>True</td>\n",
              "      <td>656731821</td>\n",
              "      <td>Ngov chiheang</td>\n",
              "      <td>https://apps.apple.com/us/developer/ngov-chihe...</td>\n",
              "      <td>http://imonstersoft.com</td>\n",
              "      <td>0.0</td>\n",
              "      <td>0</td>\n",
              "      <td>0.0</td>\n",
              "      <td>0</td>\n",
              "    </tr>\n",
              "  </tbody>\n",
              "</table>\n",
              "<p>5 rows × 21 columns</p>\n",
              "</div>"
            ],
            "text/plain": [
              "                             App_Id                 App_Name  \\\n",
              "0               com.hkbu.arc.apaper           A+ Paper Guide   \n",
              "1               com.dmitriev.abooks                  A-Books   \n",
              "2                    no.terp.abooks                  A-books   \n",
              "3          fr.antoinettefleur.Book1              A-F Book #1   \n",
              "4  com.imonstersoft.azdictionaryios  A-Z Synonyms Dictionary   \n",
              "\n",
              "                                        AppStore_Url Primary_Genre  \\\n",
              "0  https://apps.apple.com/us/app/a-paper-guide/id...     Education   \n",
              "1  https://apps.apple.com/us/app/a-books/id103157...          Book   \n",
              "2  https://apps.apple.com/us/app/a-books/id145702...          Book   \n",
              "3  https://apps.apple.com/us/app/a-f-book-1/id500...          Book   \n",
              "4  https://apps.apple.com/us/app/a-z-synonyms-dic...     Reference   \n",
              "\n",
              "  Content_Rating  Size_Bytes Required_IOS_Version              Released  \\\n",
              "0             4+  21993472.0                  8.0  2017-09-28T03:02:41Z   \n",
              "1             4+  13135872.0                 10.0  2015-08-31T19:31:32Z   \n",
              "2             4+  21943296.0                  9.0  2021-04-14T07:00:00Z   \n",
              "3             4+  81851392.0                  8.0  2012-02-10T03:40:07Z   \n",
              "4             4+  64692224.0                  9.0  2020-12-16T08:00:00Z   \n",
              "\n",
              "                Updated Version  ...  Currency   Free  DeveloperId  \\\n",
              "0  2018-12-21T21:30:36Z   1.1.2  ...       USD   True   1375410542   \n",
              "1  2019-07-23T20:31:09Z     1.3  ...       USD   True   1031572001   \n",
              "2  2021-05-30T21:08:54Z   1.3.1  ...       USD   True   1457024163   \n",
              "3  2019-10-29T12:40:37Z     1.2  ...       USD  False    439568839   \n",
              "4  2020-12-18T21:36:11Z   1.0.1  ...       USD   True    656731821   \n",
              "\n",
              "        Developer                                      Developer_Url  \\\n",
              "0        HKBU ARC  https://apps.apple.com/us/developer/hkbu-arc/i...   \n",
              "1  Roman Dmitriev  https://apps.apple.com/us/developer/roman-dmit...   \n",
              "2         Terp AS  https://apps.apple.com/us/developer/terp-as/id...   \n",
              "3   i-editeur.com  https://apps.apple.com/us/developer/i-editeur-...   \n",
              "4   Ngov chiheang  https://apps.apple.com/us/developer/ngov-chihe...   \n",
              "\n",
              "         Developer_Website Average_User_Rating  Reviews  \\\n",
              "0                      NaN                 0.0        0   \n",
              "1                      NaN                 5.0        1   \n",
              "2                      NaN                 0.0        0   \n",
              "3                      NaN                 0.0        0   \n",
              "4  http://imonstersoft.com                 0.0        0   \n",
              "\n",
              "   Current_Version_Score  Current_Version_Reviews  \n",
              "0                    0.0                        0  \n",
              "1                    5.0                        1  \n",
              "2                    0.0                        0  \n",
              "3                    0.0                        0  \n",
              "4                    0.0                        0  \n",
              "\n",
              "[5 rows x 21 columns]"
            ]
          },
          "execution_count": 3,
          "metadata": {},
          "output_type": "execute_result"
        }
      ],
      "source": [
        "#checking 1st 5 ectries\n",
        "df.head(5)"
      ]
    },
    {
      "cell_type": "markdown",
      "id": "37beb924",
      "metadata": {
        "papermill": {
          "duration": 0.042441,
          "end_time": "2023-08-18T14:58:02.732118",
          "exception": false,
          "start_time": "2023-08-18T14:58:02.689677",
          "status": "completed"
        },
        "tags": [],
        "id": "37beb924"
      },
      "source": [
        "## Basic Structure"
      ]
    },
    {
      "cell_type": "code",
      "execution_count": null,
      "id": "4e303bea",
      "metadata": {
        "execution": {
          "iopub.execute_input": "2023-08-18T14:58:02.818012Z",
          "iopub.status.busy": "2023-08-18T14:58:02.816625Z",
          "iopub.status.idle": "2023-08-18T14:58:02.823197Z",
          "shell.execute_reply": "2023-08-18T14:58:02.822249Z"
        },
        "papermill": {
          "duration": 0.052583,
          "end_time": "2023-08-18T14:58:02.825588",
          "exception": false,
          "start_time": "2023-08-18T14:58:02.773005",
          "status": "completed"
        },
        "tags": [],
        "id": "4e303bea",
        "outputId": "56db76f8-031a-496c-d59c-a4d3b042642f"
      },
      "outputs": [
        {
          "name": "stdout",
          "output_type": "stream",
          "text": [
            "The DataFrame has 1230376 rows and 21 columns\n"
          ]
        }
      ],
      "source": [
        "# Get the number of rows and columns in the DataFrame\n",
        "num_rows, num_columns = df.shape\n",
        "\n",
        "# Print the result\n",
        "print(f\"The DataFrame has {num_rows} rows and {num_columns} columns\")"
      ]
    },
    {
      "cell_type": "code",
      "execution_count": null,
      "id": "db25e11c",
      "metadata": {
        "execution": {
          "iopub.execute_input": "2023-08-18T14:58:02.910491Z",
          "iopub.status.busy": "2023-08-18T14:58:02.909257Z",
          "iopub.status.idle": "2023-08-18T14:58:02.916825Z",
          "shell.execute_reply": "2023-08-18T14:58:02.915632Z"
        },
        "papermill": {
          "duration": 0.052765,
          "end_time": "2023-08-18T14:58:02.919356",
          "exception": false,
          "start_time": "2023-08-18T14:58:02.866591",
          "status": "completed"
        },
        "tags": [],
        "id": "db25e11c",
        "outputId": "c1e6c415-1912-446d-caa8-cf5fb863b4ba"
      },
      "outputs": [
        {
          "data": {
            "text/plain": [
              "Index(['App_Id', 'App_Name', 'AppStore_Url', 'Primary_Genre', 'Content_Rating',\n",
              "       'Size_Bytes', 'Required_IOS_Version', 'Released', 'Updated', 'Version',\n",
              "       'Price', 'Currency', 'Free', 'DeveloperId', 'Developer',\n",
              "       'Developer_Url', 'Developer_Website', 'Average_User_Rating', 'Reviews',\n",
              "       'Current_Version_Score', 'Current_Version_Reviews'],\n",
              "      dtype='object')"
            ]
          },
          "execution_count": 5,
          "metadata": {},
          "output_type": "execute_result"
        }
      ],
      "source": [
        "#checking for columns\n",
        "df.columns"
      ]
    },
    {
      "cell_type": "code",
      "execution_count": null,
      "id": "70591e9d",
      "metadata": {
        "execution": {
          "iopub.execute_input": "2023-08-18T14:58:03.004954Z",
          "iopub.status.busy": "2023-08-18T14:58:03.004457Z",
          "iopub.status.idle": "2023-08-18T14:58:08.203749Z",
          "shell.execute_reply": "2023-08-18T14:58:08.202464Z"
        },
        "papermill": {
          "duration": 5.245575,
          "end_time": "2023-08-18T14:58:08.206494",
          "exception": false,
          "start_time": "2023-08-18T14:58:02.960919",
          "status": "completed"
        },
        "tags": [],
        "id": "70591e9d",
        "outputId": "9bc06631-729f-4318-d82b-e1d830480497"
      },
      "outputs": [
        {
          "name": "stdout",
          "output_type": "stream",
          "text": [
            "<class 'pandas.core.frame.DataFrame'>\n",
            "RangeIndex: 1230376 entries, 0 to 1230375\n",
            "Data columns (total 21 columns):\n",
            " #   Column                   Non-Null Count    Dtype  \n",
            "---  ------                   --------------    -----  \n",
            " 0   App_Id                   1230376 non-null  object \n",
            " 1   App_Name                 1230375 non-null  object \n",
            " 2   AppStore_Url             1230376 non-null  object \n",
            " 3   Primary_Genre            1230376 non-null  object \n",
            " 4   Content_Rating           1230376 non-null  object \n",
            " 5   Size_Bytes               1230152 non-null  float64\n",
            " 6   Required_IOS_Version     1230376 non-null  object \n",
            " 7   Released                 1230373 non-null  object \n",
            " 8   Updated                  1230376 non-null  object \n",
            " 9   Version                  1230376 non-null  object \n",
            " 10  Price                    1229886 non-null  float64\n",
            " 11  Currency                 1230376 non-null  object \n",
            " 12  Free                     1230376 non-null  bool   \n",
            " 13  DeveloperId              1230376 non-null  int64  \n",
            " 14  Developer                1230376 non-null  object \n",
            " 15  Developer_Url            1229267 non-null  object \n",
            " 16  Developer_Website        586388 non-null   object \n",
            " 17  Average_User_Rating      1230376 non-null  float64\n",
            " 18  Reviews                  1230376 non-null  int64  \n",
            " 19  Current_Version_Score    1230376 non-null  float64\n",
            " 20  Current_Version_Reviews  1230376 non-null  int64  \n",
            "dtypes: bool(1), float64(4), int64(3), object(13)\n",
            "memory usage: 188.9+ MB\n"
          ]
        }
      ],
      "source": [
        "#working on data composition first\n",
        "df.info()"
      ]
    },
    {
      "cell_type": "markdown",
      "id": "51bbca26",
      "metadata": {
        "papermill": {
          "duration": 0.040652,
          "end_time": "2023-08-18T14:58:08.287374",
          "exception": false,
          "start_time": "2023-08-18T14:58:08.246722",
          "status": "completed"
        },
        "tags": [],
        "id": "51bbca26"
      },
      "source": [
        "## Exploring Descriptive statistic"
      ]
    },
    {
      "cell_type": "code",
      "execution_count": null,
      "id": "cf3d8755",
      "metadata": {
        "execution": {
          "iopub.execute_input": "2023-08-18T14:58:08.369143Z",
          "iopub.status.busy": "2023-08-18T14:58:08.368758Z",
          "iopub.status.idle": "2023-08-18T14:58:08.738426Z",
          "shell.execute_reply": "2023-08-18T14:58:08.737327Z"
        },
        "papermill": {
          "duration": 0.413671,
          "end_time": "2023-08-18T14:58:08.740918",
          "exception": false,
          "start_time": "2023-08-18T14:58:08.327247",
          "status": "completed"
        },
        "tags": [],
        "id": "cf3d8755",
        "outputId": "94771c52-4cea-4d34-84a7-f28a3242b593"
      },
      "outputs": [
        {
          "data": {
            "text/html": [
              "<div>\n",
              "<style scoped>\n",
              "    .dataframe tbody tr th:only-of-type {\n",
              "        vertical-align: middle;\n",
              "    }\n",
              "\n",
              "    .dataframe tbody tr th {\n",
              "        vertical-align: top;\n",
              "    }\n",
              "\n",
              "    .dataframe thead th {\n",
              "        text-align: right;\n",
              "    }\n",
              "</style>\n",
              "<table border=\"1\" class=\"dataframe\">\n",
              "  <thead>\n",
              "    <tr style=\"text-align: right;\">\n",
              "      <th></th>\n",
              "      <th>Size_Bytes</th>\n",
              "      <th>Price</th>\n",
              "      <th>DeveloperId</th>\n",
              "      <th>Average_User_Rating</th>\n",
              "      <th>Reviews</th>\n",
              "      <th>Current_Version_Score</th>\n",
              "      <th>Current_Version_Reviews</th>\n",
              "    </tr>\n",
              "  </thead>\n",
              "  <tbody>\n",
              "    <tr>\n",
              "      <th>count</th>\n",
              "      <td>1.230152e+06</td>\n",
              "      <td>1.229886e+06</td>\n",
              "      <td>1.230376e+06</td>\n",
              "      <td>1.230376e+06</td>\n",
              "      <td>1.230376e+06</td>\n",
              "      <td>1.230376e+06</td>\n",
              "      <td>1.230376e+06</td>\n",
              "    </tr>\n",
              "    <tr>\n",
              "      <th>mean</th>\n",
              "      <td>7.510857e+07</td>\n",
              "      <td>5.041264e-01</td>\n",
              "      <td>1.092869e+09</td>\n",
              "      <td>1.788387e+00</td>\n",
              "      <td>8.259478e+02</td>\n",
              "      <td>1.788387e+00</td>\n",
              "      <td>8.259478e+02</td>\n",
              "    </tr>\n",
              "    <tr>\n",
              "      <th>std</th>\n",
              "      <td>2.318726e+08</td>\n",
              "      <td>6.869674e+00</td>\n",
              "      <td>4.090897e+08</td>\n",
              "      <td>2.154105e+00</td>\n",
              "      <td>5.016051e+04</td>\n",
              "      <td>2.154105e+00</td>\n",
              "      <td>5.016051e+04</td>\n",
              "    </tr>\n",
              "    <tr>\n",
              "      <th>min</th>\n",
              "      <td>2.762800e+04</td>\n",
              "      <td>0.000000e+00</td>\n",
              "      <td>2.816565e+08</td>\n",
              "      <td>0.000000e+00</td>\n",
              "      <td>0.000000e+00</td>\n",
              "      <td>0.000000e+00</td>\n",
              "      <td>0.000000e+00</td>\n",
              "    </tr>\n",
              "    <tr>\n",
              "      <th>25%</th>\n",
              "      <td>2.041344e+07</td>\n",
              "      <td>0.000000e+00</td>\n",
              "      <td>7.381109e+08</td>\n",
              "      <td>0.000000e+00</td>\n",
              "      <td>0.000000e+00</td>\n",
              "      <td>0.000000e+00</td>\n",
              "      <td>0.000000e+00</td>\n",
              "    </tr>\n",
              "    <tr>\n",
              "      <th>50%</th>\n",
              "      <td>4.333158e+07</td>\n",
              "      <td>0.000000e+00</td>\n",
              "      <td>1.179711e+09</td>\n",
              "      <td>0.000000e+00</td>\n",
              "      <td>0.000000e+00</td>\n",
              "      <td>0.000000e+00</td>\n",
              "      <td>0.000000e+00</td>\n",
              "    </tr>\n",
              "    <tr>\n",
              "      <th>75%</th>\n",
              "      <td>8.365466e+07</td>\n",
              "      <td>0.000000e+00</td>\n",
              "      <td>1.471960e+09</td>\n",
              "      <td>4.333330e+00</td>\n",
              "      <td>3.000000e+00</td>\n",
              "      <td>4.333330e+00</td>\n",
              "      <td>3.000000e+00</td>\n",
              "    </tr>\n",
              "    <tr>\n",
              "      <th>max</th>\n",
              "      <td>7.677945e+10</td>\n",
              "      <td>9.999900e+02</td>\n",
              "      <td>1.590233e+09</td>\n",
              "      <td>5.000000e+00</td>\n",
              "      <td>2.268533e+07</td>\n",
              "      <td>5.000000e+00</td>\n",
              "      <td>2.268533e+07</td>\n",
              "    </tr>\n",
              "  </tbody>\n",
              "</table>\n",
              "</div>"
            ],
            "text/plain": [
              "         Size_Bytes         Price   DeveloperId  Average_User_Rating  \\\n",
              "count  1.230152e+06  1.229886e+06  1.230376e+06         1.230376e+06   \n",
              "mean   7.510857e+07  5.041264e-01  1.092869e+09         1.788387e+00   \n",
              "std    2.318726e+08  6.869674e+00  4.090897e+08         2.154105e+00   \n",
              "min    2.762800e+04  0.000000e+00  2.816565e+08         0.000000e+00   \n",
              "25%    2.041344e+07  0.000000e+00  7.381109e+08         0.000000e+00   \n",
              "50%    4.333158e+07  0.000000e+00  1.179711e+09         0.000000e+00   \n",
              "75%    8.365466e+07  0.000000e+00  1.471960e+09         4.333330e+00   \n",
              "max    7.677945e+10  9.999900e+02  1.590233e+09         5.000000e+00   \n",
              "\n",
              "            Reviews  Current_Version_Score  Current_Version_Reviews  \n",
              "count  1.230376e+06           1.230376e+06             1.230376e+06  \n",
              "mean   8.259478e+02           1.788387e+00             8.259478e+02  \n",
              "std    5.016051e+04           2.154105e+00             5.016051e+04  \n",
              "min    0.000000e+00           0.000000e+00             0.000000e+00  \n",
              "25%    0.000000e+00           0.000000e+00             0.000000e+00  \n",
              "50%    0.000000e+00           0.000000e+00             0.000000e+00  \n",
              "75%    3.000000e+00           4.333330e+00             3.000000e+00  \n",
              "max    2.268533e+07           5.000000e+00             2.268533e+07  "
            ]
          },
          "execution_count": 7,
          "metadata": {},
          "output_type": "execute_result"
        }
      ],
      "source": [
        "df.describe()"
      ]
    },
    {
      "cell_type": "markdown",
      "id": "7692c641",
      "metadata": {
        "papermill": {
          "duration": 0.041741,
          "end_time": "2023-08-18T14:58:08.822913",
          "exception": false,
          "start_time": "2023-08-18T14:58:08.781172",
          "status": "completed"
        },
        "tags": [],
        "id": "7692c641"
      },
      "source": [
        "## checking for unique values"
      ]
    },
    {
      "cell_type": "code",
      "execution_count": null,
      "id": "a48a7bcb",
      "metadata": {
        "execution": {
          "iopub.execute_input": "2023-08-18T14:58:08.907653Z",
          "iopub.status.busy": "2023-08-18T14:58:08.907234Z",
          "iopub.status.idle": "2023-08-18T14:58:09.014227Z",
          "shell.execute_reply": "2023-08-18T14:58:09.013063Z"
        },
        "papermill": {
          "duration": 0.152166,
          "end_time": "2023-08-18T14:58:09.016612",
          "exception": false,
          "start_time": "2023-08-18T14:58:08.864446",
          "status": "completed"
        },
        "tags": [],
        "id": "a48a7bcb",
        "outputId": "3464a904-a097-4881-ea7e-3a36e2c68ba9"
      },
      "outputs": [
        {
          "data": {
            "text/plain": [
              "array(['4+', '17+', '9+', '12+', 'Not yet rated'], dtype=object)"
            ]
          },
          "execution_count": 8,
          "metadata": {},
          "output_type": "execute_result"
        }
      ],
      "source": [
        "df[\"Content_Rating\"].unique()\n"
      ]
    },
    {
      "cell_type": "code",
      "execution_count": null,
      "id": "335f32e0",
      "metadata": {
        "execution": {
          "iopub.execute_input": "2023-08-18T14:58:09.099676Z",
          "iopub.status.busy": "2023-08-18T14:58:09.099091Z",
          "iopub.status.idle": "2023-08-18T14:58:09.151772Z",
          "shell.execute_reply": "2023-08-18T14:58:09.150551Z"
        },
        "papermill": {
          "duration": 0.097259,
          "end_time": "2023-08-18T14:58:09.154424",
          "exception": false,
          "start_time": "2023-08-18T14:58:09.057165",
          "status": "completed"
        },
        "tags": [],
        "id": "335f32e0",
        "outputId": "f8824204-ef6e-42fd-b657-5386811f3454"
      },
      "outputs": [
        {
          "data": {
            "text/plain": [
              "array([2.19934720e+07, 1.31358720e+07, 2.19432960e+07, ...,\n",
              "       1.19404544e+08, 5.96570000e+05, 5.06896000e+05])"
            ]
          },
          "execution_count": 9,
          "metadata": {},
          "output_type": "execute_result"
        }
      ],
      "source": [
        "df.Size_Bytes.unique()"
      ]
    },
    {
      "cell_type": "code",
      "execution_count": null,
      "id": "eed6ba11",
      "metadata": {
        "execution": {
          "iopub.execute_input": "2023-08-18T14:58:09.239769Z",
          "iopub.status.busy": "2023-08-18T14:58:09.239231Z",
          "iopub.status.idle": "2023-08-18T14:58:09.357012Z",
          "shell.execute_reply": "2023-08-18T14:58:09.355605Z"
        },
        "papermill": {
          "duration": 0.164849,
          "end_time": "2023-08-18T14:58:09.360048",
          "exception": false,
          "start_time": "2023-08-18T14:58:09.195199",
          "status": "completed"
        },
        "tags": [],
        "id": "eed6ba11",
        "outputId": "4ed67fc0-9442-4800-ca80-b689b1d42025"
      },
      "outputs": [
        {
          "data": {
            "text/plain": [
              "260"
            ]
          },
          "execution_count": 10,
          "metadata": {},
          "output_type": "execute_result"
        }
      ],
      "source": [
        "df[\"Required_IOS_Version\"].nunique()"
      ]
    },
    {
      "cell_type": "code",
      "execution_count": null,
      "id": "6ddeb16e",
      "metadata": {
        "execution": {
          "iopub.execute_input": "2023-08-18T14:58:09.449415Z",
          "iopub.status.busy": "2023-08-18T14:58:09.448907Z",
          "iopub.status.idle": "2023-08-18T14:58:09.554895Z",
          "shell.execute_reply": "2023-08-18T14:58:09.553570Z"
        },
        "papermill": {
          "duration": 0.154444,
          "end_time": "2023-08-18T14:58:09.557896",
          "exception": false,
          "start_time": "2023-08-18T14:58:09.403452",
          "status": "completed"
        },
        "tags": [],
        "id": "6ddeb16e",
        "outputId": "f6adf61d-e3f3-47ad-97de-9b8ee03ef8df"
      },
      "outputs": [
        {
          "data": {
            "text/plain": [
              "1"
            ]
          },
          "execution_count": 11,
          "metadata": {},
          "output_type": "execute_result"
        }
      ],
      "source": [
        "df[\"Currency\"].nunique()"
      ]
    },
    {
      "cell_type": "code",
      "execution_count": null,
      "id": "eb2538c9",
      "metadata": {
        "execution": {
          "iopub.execute_input": "2023-08-18T14:58:09.654369Z",
          "iopub.status.busy": "2023-08-18T14:58:09.653829Z",
          "iopub.status.idle": "2023-08-18T14:58:09.727970Z",
          "shell.execute_reply": "2023-08-18T14:58:09.726701Z"
        },
        "papermill": {
          "duration": 0.126774,
          "end_time": "2023-08-18T14:58:09.731293",
          "exception": false,
          "start_time": "2023-08-18T14:58:09.604519",
          "status": "completed"
        },
        "tags": [],
        "id": "eb2538c9",
        "outputId": "212147cc-acc5-443b-9bc4-0b9881b79ac9"
      },
      "outputs": [
        {
          "data": {
            "text/plain": [
              "509285"
            ]
          },
          "execution_count": 12,
          "metadata": {},
          "output_type": "execute_result"
        }
      ],
      "source": [
        "df[\"DeveloperId\"].nunique()"
      ]
    },
    {
      "cell_type": "code",
      "execution_count": null,
      "id": "62ef6516",
      "metadata": {
        "execution": {
          "iopub.execute_input": "2023-08-18T14:58:09.821467Z",
          "iopub.status.busy": "2023-08-18T14:58:09.820601Z",
          "iopub.status.idle": "2023-08-18T14:58:09.840454Z",
          "shell.execute_reply": "2023-08-18T14:58:09.838907Z"
        },
        "papermill": {
          "duration": 0.069039,
          "end_time": "2023-08-18T14:58:09.843759",
          "exception": false,
          "start_time": "2023-08-18T14:58:09.774720",
          "status": "completed"
        },
        "tags": [],
        "id": "62ef6516",
        "outputId": "783032a3-3800-40fe-d067-be2eb0815cfd"
      },
      "outputs": [
        {
          "data": {
            "text/plain": [
              "13668"
            ]
          },
          "execution_count": 13,
          "metadata": {},
          "output_type": "execute_result"
        }
      ],
      "source": [
        "df[\"Reviews\"].nunique()"
      ]
    },
    {
      "cell_type": "markdown",
      "id": "e3a1ee5b",
      "metadata": {
        "papermill": {
          "duration": 0.046586,
          "end_time": "2023-08-18T14:58:09.936672",
          "exception": false,
          "start_time": "2023-08-18T14:58:09.890086",
          "status": "completed"
        },
        "tags": [],
        "id": "e3a1ee5b"
      },
      "source": [
        "# Find out missing values"
      ]
    },
    {
      "cell_type": "code",
      "execution_count": null,
      "id": "4a4acaa9",
      "metadata": {
        "execution": {
          "iopub.execute_input": "2023-08-18T14:58:10.027128Z",
          "iopub.status.busy": "2023-08-18T14:58:10.026583Z",
          "iopub.status.idle": "2023-08-18T14:58:15.134638Z",
          "shell.execute_reply": "2023-08-18T14:58:15.133738Z"
        },
        "papermill": {
          "duration": 5.156671,
          "end_time": "2023-08-18T14:58:15.136911",
          "exception": false,
          "start_time": "2023-08-18T14:58:09.980240",
          "status": "completed"
        },
        "tags": [],
        "id": "4a4acaa9",
        "outputId": "36f688dd-9c5c-42f4-a9d6-ed15cec040bc"
      },
      "outputs": [
        {
          "data": {
            "text/plain": [
              "App_Id                          0\n",
              "App_Name                        1\n",
              "AppStore_Url                    0\n",
              "Primary_Genre                   0\n",
              "Content_Rating                  0\n",
              "Size_Bytes                    224\n",
              "Required_IOS_Version            0\n",
              "Released                        3\n",
              "Updated                         0\n",
              "Version                         0\n",
              "Price                         490\n",
              "Currency                        0\n",
              "Free                            0\n",
              "DeveloperId                     0\n",
              "Developer                       0\n",
              "Developer_Url                1109\n",
              "Developer_Website          643988\n",
              "Average_User_Rating             0\n",
              "Reviews                         0\n",
              "Current_Version_Score           0\n",
              "Current_Version_Reviews         0\n",
              "dtype: int64"
            ]
          },
          "execution_count": 14,
          "metadata": {},
          "output_type": "execute_result"
        }
      ],
      "source": [
        "df.isnull().sum()"
      ]
    },
    {
      "cell_type": "code",
      "execution_count": null,
      "id": "d82ce379",
      "metadata": {
        "execution": {
          "iopub.execute_input": "2023-08-18T14:58:15.229426Z",
          "iopub.status.busy": "2023-08-18T14:58:15.228602Z",
          "iopub.status.idle": "2023-08-18T14:58:20.376384Z",
          "shell.execute_reply": "2023-08-18T14:58:20.375169Z"
        },
        "papermill": {
          "duration": 5.200196,
          "end_time": "2023-08-18T14:58:20.378887",
          "exception": false,
          "start_time": "2023-08-18T14:58:15.178691",
          "status": "completed"
        },
        "tags": [],
        "id": "d82ce379",
        "outputId": "76741083-f605-4135-9ad9-11cbe7869423"
      },
      "outputs": [
        {
          "data": {
            "text/plain": [
              "App_Id                      0.000000\n",
              "App_Name                    0.000081\n",
              "AppStore_Url                0.000000\n",
              "Primary_Genre               0.000000\n",
              "Content_Rating              0.000000\n",
              "Size_Bytes                  0.018206\n",
              "Required_IOS_Version        0.000000\n",
              "Released                    0.000244\n",
              "Updated                     0.000000\n",
              "Version                     0.000000\n",
              "Price                       0.039825\n",
              "Currency                    0.000000\n",
              "Free                        0.000000\n",
              "DeveloperId                 0.000000\n",
              "Developer                   0.000000\n",
              "Developer_Url               0.090135\n",
              "Developer_Website          52.340748\n",
              "Average_User_Rating         0.000000\n",
              "Reviews                     0.000000\n",
              "Current_Version_Score       0.000000\n",
              "Current_Version_Reviews     0.000000\n",
              "dtype: float64"
            ]
          },
          "execution_count": 15,
          "metadata": {},
          "output_type": "execute_result"
        }
      ],
      "source": [
        "#percentage of null values\n",
        "df.isnull().sum()/len(df)*100"
      ]
    },
    {
      "cell_type": "markdown",
      "id": "a9f74033",
      "metadata": {
        "papermill": {
          "duration": 0.04218,
          "end_time": "2023-08-18T14:58:20.463043",
          "exception": false,
          "start_time": "2023-08-18T14:58:20.420863",
          "status": "completed"
        },
        "tags": [],
        "id": "a9f74033"
      },
      "source": [
        "## Filing and imputing nan values\n",
        "* Droping Developer_Url,\n",
        "* Developer_Website\n",
        "* Replacing price nan value with mode"
      ]
    },
    {
      "cell_type": "code",
      "execution_count": null,
      "id": "4805794b",
      "metadata": {
        "execution": {
          "iopub.execute_input": "2023-08-18T14:58:20.549572Z",
          "iopub.status.busy": "2023-08-18T14:58:20.549152Z",
          "iopub.status.idle": "2023-08-18T14:58:20.775335Z",
          "shell.execute_reply": "2023-08-18T14:58:20.774049Z"
        },
        "papermill": {
          "duration": 0.272651,
          "end_time": "2023-08-18T14:58:20.778145",
          "exception": false,
          "start_time": "2023-08-18T14:58:20.505494",
          "status": "completed"
        },
        "tags": [],
        "id": "4805794b"
      },
      "outputs": [],
      "source": [
        "df.drop(columns=['Developer_Url'], inplace=True)"
      ]
    },
    {
      "cell_type": "code",
      "execution_count": null,
      "id": "82dc2d27",
      "metadata": {
        "execution": {
          "iopub.execute_input": "2023-08-18T14:58:20.864158Z",
          "iopub.status.busy": "2023-08-18T14:58:20.863387Z",
          "iopub.status.idle": "2023-08-18T14:58:21.163387Z",
          "shell.execute_reply": "2023-08-18T14:58:21.162091Z"
        },
        "papermill": {
          "duration": 0.345815,
          "end_time": "2023-08-18T14:58:21.165691",
          "exception": false,
          "start_time": "2023-08-18T14:58:20.819876",
          "status": "completed"
        },
        "tags": [],
        "id": "82dc2d27"
      },
      "outputs": [],
      "source": [
        "df.drop(columns=['Developer_Website'], inplace=True)"
      ]
    },
    {
      "cell_type": "markdown",
      "id": "b0cab254",
      "metadata": {
        "papermill": {
          "duration": 0.041393,
          "end_time": "2023-08-18T14:58:21.248448",
          "exception": false,
          "start_time": "2023-08-18T14:58:21.207055",
          "status": "completed"
        },
        "tags": [],
        "id": "b0cab254"
      },
      "source": [
        "Now filing nan values of Price columns for this we are not droping Price columns because its importent we are replacing nan with its mode."
      ]
    },
    {
      "cell_type": "code",
      "execution_count": null,
      "id": "14713958",
      "metadata": {
        "execution": {
          "iopub.execute_input": "2023-08-18T14:58:21.335500Z",
          "iopub.status.busy": "2023-08-18T14:58:21.334789Z",
          "iopub.status.idle": "2023-08-18T14:58:21.355075Z",
          "shell.execute_reply": "2023-08-18T14:58:21.354236Z"
        },
        "papermill": {
          "duration": 0.067093,
          "end_time": "2023-08-18T14:58:21.357120",
          "exception": false,
          "start_time": "2023-08-18T14:58:21.290027",
          "status": "completed"
        },
        "tags": [],
        "id": "14713958",
        "outputId": "510d4a22-2f88-4edf-b224-8161cbbd8cbe"
      },
      "outputs": [
        {
          "data": {
            "text/plain": [
              "189.99          2\n",
              "599.99          3\n",
              "239.99          3\n",
              "799.99          3\n",
              "899.99          4\n",
              "           ...   \n",
              "4.99         8817\n",
              "2.99        13246\n",
              "1.99        19905\n",
              "0.99        33813\n",
              "0.00      1127384\n",
              "Name: Price, Length: 88, dtype: int64"
            ]
          },
          "execution_count": 18,
          "metadata": {},
          "output_type": "execute_result"
        }
      ],
      "source": [
        "#Price unique counts\n",
        "df[\"Price\"].value_counts(ascending=True)"
      ]
    },
    {
      "cell_type": "code",
      "execution_count": null,
      "id": "e26c8da4",
      "metadata": {
        "execution": {
          "iopub.execute_input": "2023-08-18T14:58:21.443521Z",
          "iopub.status.busy": "2023-08-18T14:58:21.443073Z",
          "iopub.status.idle": "2023-08-18T14:58:21.462911Z",
          "shell.execute_reply": "2023-08-18T14:58:21.461774Z"
        },
        "papermill": {
          "duration": 0.065812,
          "end_time": "2023-08-18T14:58:21.465326",
          "exception": false,
          "start_time": "2023-08-18T14:58:21.399514",
          "status": "completed"
        },
        "tags": [],
        "id": "e26c8da4"
      },
      "outputs": [],
      "source": [
        "# Calculate the mode of the 'Price' column and fill nan\n",
        "price_mode = df['Price'].mode()[0]\n",
        "\n",
        "# Replace null values with the mode\n",
        "df['Price'].fillna(price_mode, inplace=True)"
      ]
    },
    {
      "cell_type": "code",
      "execution_count": null,
      "id": "be931e51",
      "metadata": {
        "execution": {
          "iopub.execute_input": "2023-08-18T14:58:21.551738Z",
          "iopub.status.busy": "2023-08-18T14:58:21.551343Z",
          "iopub.status.idle": "2023-08-18T14:58:25.986966Z",
          "shell.execute_reply": "2023-08-18T14:58:25.986035Z"
        },
        "papermill": {
          "duration": 4.481647,
          "end_time": "2023-08-18T14:58:25.989444",
          "exception": false,
          "start_time": "2023-08-18T14:58:21.507797",
          "status": "completed"
        },
        "tags": [],
        "id": "be931e51",
        "outputId": "e4b4690d-9e8c-4236-c8d8-af1501f80b70"
      },
      "outputs": [
        {
          "data": {
            "text/plain": [
              "App_Id                       0\n",
              "App_Name                     1\n",
              "AppStore_Url                 0\n",
              "Primary_Genre                0\n",
              "Content_Rating               0\n",
              "Size_Bytes                 224\n",
              "Required_IOS_Version         0\n",
              "Released                     3\n",
              "Updated                      0\n",
              "Version                      0\n",
              "Price                        0\n",
              "Currency                     0\n",
              "Free                         0\n",
              "DeveloperId                  0\n",
              "Developer                    0\n",
              "Average_User_Rating          0\n",
              "Reviews                      0\n",
              "Current_Version_Score        0\n",
              "Current_Version_Reviews      0\n",
              "dtype: int64"
            ]
          },
          "execution_count": 20,
          "metadata": {},
          "output_type": "execute_result"
        }
      ],
      "source": [
        "# there is no null values in price\n",
        "df.isnull().sum()"
      ]
    },
    {
      "cell_type": "markdown",
      "id": "5a29349e",
      "metadata": {
        "papermill": {
          "duration": 0.043284,
          "end_time": "2023-08-18T14:58:26.076112",
          "exception": false,
          "start_time": "2023-08-18T14:58:26.032828",
          "status": "completed"
        },
        "tags": [],
        "id": "5a29349e"
      },
      "source": [
        "**Working on Size_Bytes columns**"
      ]
    },
    {
      "cell_type": "code",
      "execution_count": null,
      "id": "5f6584ea",
      "metadata": {
        "execution": {
          "iopub.execute_input": "2023-08-18T14:58:26.164832Z",
          "iopub.status.busy": "2023-08-18T14:58:26.164102Z",
          "iopub.status.idle": "2023-08-18T14:58:26.247991Z",
          "shell.execute_reply": "2023-08-18T14:58:26.246768Z"
        },
        "papermill": {
          "duration": 0.131862,
          "end_time": "2023-08-18T14:58:26.251348",
          "exception": false,
          "start_time": "2023-08-18T14:58:26.119486",
          "status": "completed"
        },
        "tags": [],
        "id": "5f6584ea"
      },
      "outputs": [],
      "source": [
        "#replacing Size_Bytes with there mean\n",
        "mean1=df['Size_Bytes'].mean\n",
        "df['Size_Bytes'].fillna(mean1, inplace=True)"
      ]
    },
    {
      "cell_type": "markdown",
      "id": "e40b5f6e",
      "metadata": {
        "papermill": {
          "duration": 0.042533,
          "end_time": "2023-08-18T14:58:26.336955",
          "exception": false,
          "start_time": "2023-08-18T14:58:26.294422",
          "status": "completed"
        },
        "tags": [],
        "id": "e40b5f6e"
      },
      "source": [
        "**Remove Release and App name null values **"
      ]
    },
    {
      "cell_type": "code",
      "execution_count": null,
      "id": "364bcbd4",
      "metadata": {
        "execution": {
          "iopub.execute_input": "2023-08-18T14:58:26.425234Z",
          "iopub.status.busy": "2023-08-18T14:58:26.424803Z",
          "iopub.status.idle": "2023-08-18T14:58:27.372409Z",
          "shell.execute_reply": "2023-08-18T14:58:27.371153Z"
        },
        "papermill": {
          "duration": 0.993464,
          "end_time": "2023-08-18T14:58:27.374924",
          "exception": false,
          "start_time": "2023-08-18T14:58:26.381460",
          "status": "completed"
        },
        "tags": [],
        "id": "364bcbd4",
        "outputId": "f9f49f87-a699-439c-82a0-0901c0d03dd7"
      },
      "outputs": [
        {
          "data": {
            "text/html": [
              "<div>\n",
              "<style scoped>\n",
              "    .dataframe tbody tr th:only-of-type {\n",
              "        vertical-align: middle;\n",
              "    }\n",
              "\n",
              "    .dataframe tbody tr th {\n",
              "        vertical-align: top;\n",
              "    }\n",
              "\n",
              "    .dataframe thead th {\n",
              "        text-align: right;\n",
              "    }\n",
              "</style>\n",
              "<table border=\"1\" class=\"dataframe\">\n",
              "  <thead>\n",
              "    <tr style=\"text-align: right;\">\n",
              "      <th></th>\n",
              "      <th>App_Id</th>\n",
              "      <th>App_Name</th>\n",
              "      <th>AppStore_Url</th>\n",
              "      <th>Primary_Genre</th>\n",
              "      <th>Content_Rating</th>\n",
              "      <th>Size_Bytes</th>\n",
              "      <th>Required_IOS_Version</th>\n",
              "      <th>Released</th>\n",
              "      <th>Updated</th>\n",
              "      <th>Version</th>\n",
              "      <th>Price</th>\n",
              "      <th>Currency</th>\n",
              "      <th>Free</th>\n",
              "      <th>DeveloperId</th>\n",
              "      <th>Developer</th>\n",
              "      <th>Average_User_Rating</th>\n",
              "      <th>Reviews</th>\n",
              "      <th>Current_Version_Score</th>\n",
              "      <th>Current_Version_Reviews</th>\n",
              "    </tr>\n",
              "  </thead>\n",
              "  <tbody>\n",
              "    <tr>\n",
              "      <th>264853</th>\n",
              "      <td>com.ironhidegames.frontiers.universal.premium</td>\n",
              "      <td>Kingdom Rush Frontiers TD+</td>\n",
              "      <td>https://apps.apple.com/us/app/kingdom-rush-fro...</td>\n",
              "      <td>Games</td>\n",
              "      <td>12+</td>\n",
              "      <td>&lt;bound method NDFrame._add_numeric_operations....</td>\n",
              "      <td>13.0</td>\n",
              "      <td>NaN</td>\n",
              "      <td>2021-11-12T08:00:00Z</td>\n",
              "      <td>5.4.15</td>\n",
              "      <td>0.0</td>\n",
              "      <td>USD</td>\n",
              "      <td>False</td>\n",
              "      <td>1542047256</td>\n",
              "      <td>Ironhide Irl</td>\n",
              "      <td>0.0</td>\n",
              "      <td>0</td>\n",
              "      <td>0.0</td>\n",
              "      <td>0</td>\n",
              "    </tr>\n",
              "    <tr>\n",
              "      <th>836858</th>\n",
              "      <td>com.redgamesco.transformers</td>\n",
              "      <td>Transformers: Tactical Arena</td>\n",
              "      <td>https://apps.apple.com/us/app/transformers-tac...</td>\n",
              "      <td>Games</td>\n",
              "      <td>9+</td>\n",
              "      <td>&lt;bound method NDFrame._add_numeric_operations....</td>\n",
              "      <td>13.5.0</td>\n",
              "      <td>NaN</td>\n",
              "      <td>2021-11-05T07:00:00Z</td>\n",
              "      <td>0.1</td>\n",
              "      <td>0.0</td>\n",
              "      <td>USD</td>\n",
              "      <td>False</td>\n",
              "      <td>1456007507</td>\n",
              "      <td>RED GAMES CO, LLC</td>\n",
              "      <td>0.0</td>\n",
              "      <td>0</td>\n",
              "      <td>0.0</td>\n",
              "      <td>0</td>\n",
              "    </tr>\n",
              "    <tr>\n",
              "      <th>919513</th>\n",
              "      <td>com.crayolallc.crayola-create-and-play-plus</td>\n",
              "      <td>Crayola Create and Play+</td>\n",
              "      <td>https://apps.apple.com/us/app/crayola-create-a...</td>\n",
              "      <td>Games</td>\n",
              "      <td>4+</td>\n",
              "      <td>&lt;bound method NDFrame._add_numeric_operations....</td>\n",
              "      <td>13</td>\n",
              "      <td>NaN</td>\n",
              "      <td>2021-10-29T07:00:00Z</td>\n",
              "      <td>1.52</td>\n",
              "      <td>0.0</td>\n",
              "      <td>USD</td>\n",
              "      <td>False</td>\n",
              "      <td>1456007507</td>\n",
              "      <td>RED GAMES CO, LLC</td>\n",
              "      <td>0.0</td>\n",
              "      <td>0</td>\n",
              "      <td>0.0</td>\n",
              "      <td>0</td>\n",
              "    </tr>\n",
              "  </tbody>\n",
              "</table>\n",
              "</div>"
            ],
            "text/plain": [
              "                                               App_Id  \\\n",
              "264853  com.ironhidegames.frontiers.universal.premium   \n",
              "836858                    com.redgamesco.transformers   \n",
              "919513    com.crayolallc.crayola-create-and-play-plus   \n",
              "\n",
              "                            App_Name  \\\n",
              "264853    Kingdom Rush Frontiers TD+   \n",
              "836858  Transformers: Tactical Arena   \n",
              "919513      Crayola Create and Play+   \n",
              "\n",
              "                                             AppStore_Url Primary_Genre  \\\n",
              "264853  https://apps.apple.com/us/app/kingdom-rush-fro...         Games   \n",
              "836858  https://apps.apple.com/us/app/transformers-tac...         Games   \n",
              "919513  https://apps.apple.com/us/app/crayola-create-a...         Games   \n",
              "\n",
              "       Content_Rating                                         Size_Bytes  \\\n",
              "264853            12+  <bound method NDFrame._add_numeric_operations....   \n",
              "836858             9+  <bound method NDFrame._add_numeric_operations....   \n",
              "919513             4+  <bound method NDFrame._add_numeric_operations....   \n",
              "\n",
              "       Required_IOS_Version Released               Updated Version  Price  \\\n",
              "264853                 13.0      NaN  2021-11-12T08:00:00Z  5.4.15    0.0   \n",
              "836858               13.5.0      NaN  2021-11-05T07:00:00Z     0.1    0.0   \n",
              "919513                   13      NaN  2021-10-29T07:00:00Z    1.52    0.0   \n",
              "\n",
              "       Currency   Free  DeveloperId          Developer  Average_User_Rating  \\\n",
              "264853      USD  False   1542047256       Ironhide Irl                  0.0   \n",
              "836858      USD  False   1456007507  RED GAMES CO, LLC                  0.0   \n",
              "919513      USD  False   1456007507  RED GAMES CO, LLC                  0.0   \n",
              "\n",
              "        Reviews  Current_Version_Score  Current_Version_Reviews  \n",
              "264853        0                    0.0                        0  \n",
              "836858        0                    0.0                        0  \n",
              "919513        0                    0.0                        0  "
            ]
          },
          "execution_count": 22,
          "metadata": {},
          "output_type": "execute_result"
        }
      ],
      "source": [
        "#checking For nan entries in Released\n",
        "df[df['Released'].isnull()].head(5)"
      ]
    },
    {
      "cell_type": "code",
      "execution_count": null,
      "id": "7c92e365",
      "metadata": {
        "execution": {
          "iopub.execute_input": "2023-08-18T14:58:27.467045Z",
          "iopub.status.busy": "2023-08-18T14:58:27.466097Z",
          "iopub.status.idle": "2023-08-18T14:58:27.628852Z",
          "shell.execute_reply": "2023-08-18T14:58:27.627524Z"
        },
        "papermill": {
          "duration": 0.211905,
          "end_time": "2023-08-18T14:58:27.631781",
          "exception": false,
          "start_time": "2023-08-18T14:58:27.419876",
          "status": "completed"
        },
        "tags": [],
        "id": "7c92e365",
        "outputId": "43d334a9-a9a3-42fe-b2d4-5effefd21637"
      },
      "outputs": [
        {
          "data": {
            "text/html": [
              "<div>\n",
              "<style scoped>\n",
              "    .dataframe tbody tr th:only-of-type {\n",
              "        vertical-align: middle;\n",
              "    }\n",
              "\n",
              "    .dataframe tbody tr th {\n",
              "        vertical-align: top;\n",
              "    }\n",
              "\n",
              "    .dataframe thead th {\n",
              "        text-align: right;\n",
              "    }\n",
              "</style>\n",
              "<table border=\"1\" class=\"dataframe\">\n",
              "  <thead>\n",
              "    <tr style=\"text-align: right;\">\n",
              "      <th></th>\n",
              "      <th>App_Id</th>\n",
              "      <th>App_Name</th>\n",
              "      <th>AppStore_Url</th>\n",
              "      <th>Primary_Genre</th>\n",
              "      <th>Content_Rating</th>\n",
              "      <th>Size_Bytes</th>\n",
              "      <th>Required_IOS_Version</th>\n",
              "      <th>Released</th>\n",
              "      <th>Updated</th>\n",
              "      <th>Version</th>\n",
              "      <th>Price</th>\n",
              "      <th>Currency</th>\n",
              "      <th>Free</th>\n",
              "      <th>DeveloperId</th>\n",
              "      <th>Developer</th>\n",
              "      <th>Average_User_Rating</th>\n",
              "      <th>Reviews</th>\n",
              "      <th>Current_Version_Score</th>\n",
              "      <th>Current_Version_Reviews</th>\n",
              "    </tr>\n",
              "  </thead>\n",
              "  <tbody>\n",
              "    <tr>\n",
              "      <th>964888</th>\n",
              "      <td>se.promedia.NA</td>\n",
              "      <td>NaN</td>\n",
              "      <td>https://apps.apple.com/us/app/na/id449134868?uo=4</td>\n",
              "      <td>News</td>\n",
              "      <td>4+</td>\n",
              "      <td>19528704.0</td>\n",
              "      <td>9.0</td>\n",
              "      <td>2011-08-08T11:45:30Z</td>\n",
              "      <td>2020-12-21T14:08:02Z</td>\n",
              "      <td>8.1.2</td>\n",
              "      <td>0.0</td>\n",
              "      <td>USD</td>\n",
              "      <td>True</td>\n",
              "      <td>449134871</td>\n",
              "      <td>Promedia</td>\n",
              "      <td>5.0</td>\n",
              "      <td>1</td>\n",
              "      <td>5.0</td>\n",
              "      <td>1</td>\n",
              "    </tr>\n",
              "  </tbody>\n",
              "</table>\n",
              "</div>"
            ],
            "text/plain": [
              "                App_Id App_Name  \\\n",
              "964888  se.promedia.NA      NaN   \n",
              "\n",
              "                                             AppStore_Url Primary_Genre  \\\n",
              "964888  https://apps.apple.com/us/app/na/id449134868?uo=4          News   \n",
              "\n",
              "       Content_Rating  Size_Bytes Required_IOS_Version              Released  \\\n",
              "964888             4+  19528704.0                  9.0  2011-08-08T11:45:30Z   \n",
              "\n",
              "                     Updated Version  Price Currency  Free  DeveloperId  \\\n",
              "964888  2020-12-21T14:08:02Z   8.1.2    0.0      USD  True    449134871   \n",
              "\n",
              "       Developer  Average_User_Rating  Reviews  Current_Version_Score  \\\n",
              "964888  Promedia                  5.0        1                    5.0   \n",
              "\n",
              "        Current_Version_Reviews  \n",
              "964888                        1  "
            ]
          },
          "execution_count": 23,
          "metadata": {},
          "output_type": "execute_result"
        }
      ],
      "source": [
        "#Checking For nan entries in App_Name\n",
        "df[df['App_Name'].isnull()].head(5)"
      ]
    },
    {
      "cell_type": "markdown",
      "id": "2cf758bb",
      "metadata": {
        "papermill": {
          "duration": 0.04389,
          "end_time": "2023-08-18T14:58:27.719750",
          "exception": false,
          "start_time": "2023-08-18T14:58:27.675860",
          "status": "completed"
        },
        "tags": [],
        "id": "2cf758bb"
      },
      "source": [
        "converting"
      ]
    },
    {
      "cell_type": "code",
      "execution_count": null,
      "id": "5a18812f",
      "metadata": {
        "execution": {
          "iopub.execute_input": "2023-08-18T14:58:27.813946Z",
          "iopub.status.busy": "2023-08-18T14:58:27.813123Z",
          "iopub.status.idle": "2023-08-18T14:58:29.503817Z",
          "shell.execute_reply": "2023-08-18T14:58:29.502311Z"
        },
        "papermill": {
          "duration": 1.742282,
          "end_time": "2023-08-18T14:58:29.507314",
          "exception": false,
          "start_time": "2023-08-18T14:58:27.765032",
          "status": "completed"
        },
        "tags": [],
        "id": "5a18812f"
      },
      "outputs": [],
      "source": [
        "#droping out unnecassary nan column\n",
        "df.dropna(subset=['Released'], inplace=True)\n",
        "df.dropna(subset=['App_Name'], inplace=True)\n"
      ]
    },
    {
      "cell_type": "code",
      "execution_count": null,
      "id": "f3242210",
      "metadata": {
        "execution": {
          "iopub.execute_input": "2023-08-18T14:58:29.600418Z",
          "iopub.status.busy": "2023-08-18T14:58:29.599928Z",
          "iopub.status.idle": "2023-08-18T14:58:29.640050Z",
          "shell.execute_reply": "2023-08-18T14:58:29.638784Z"
        },
        "papermill": {
          "duration": 0.090387,
          "end_time": "2023-08-18T14:58:29.642954",
          "exception": false,
          "start_time": "2023-08-18T14:58:29.552567",
          "status": "completed"
        },
        "tags": [],
        "id": "f3242210",
        "outputId": "3a63ea46-a3b6-4488-8e2a-e91a41e72260"
      },
      "outputs": [
        {
          "name": "stdout",
          "output_type": "stream",
          "text": [
            "0.0\n"
          ]
        }
      ],
      "source": [
        "fq=df.Price.quantile(0.25)\n",
        "tq=df.Price.quantile(0.75)\n",
        "IQR=tq-fq\n",
        "print(IQR)"
      ]
    },
    {
      "cell_type": "markdown",
      "id": "26cedb4f",
      "metadata": {
        "papermill": {
          "duration": 0.043757,
          "end_time": "2023-08-18T14:58:29.731151",
          "exception": false,
          "start_time": "2023-08-18T14:58:29.687394",
          "status": "completed"
        },
        "tags": [],
        "id": "26cedb4f"
      },
      "source": [
        "**Now Data is clean there is not any null Values**"
      ]
    },
    {
      "cell_type": "code",
      "execution_count": null,
      "id": "d78901a9",
      "metadata": {
        "execution": {
          "iopub.execute_input": "2023-08-18T14:58:29.822804Z",
          "iopub.status.busy": "2023-08-18T14:58:29.822333Z",
          "iopub.status.idle": "2023-08-18T14:58:34.525397Z",
          "shell.execute_reply": "2023-08-18T14:58:34.524304Z"
        },
        "papermill": {
          "duration": 4.753016,
          "end_time": "2023-08-18T14:58:34.528359",
          "exception": false,
          "start_time": "2023-08-18T14:58:29.775343",
          "status": "completed"
        },
        "tags": [],
        "id": "d78901a9",
        "outputId": "51e6ecb2-5a0d-4018-fa8c-4824755d444a"
      },
      "outputs": [
        {
          "data": {
            "text/plain": [
              "App_Id                     0\n",
              "App_Name                   0\n",
              "AppStore_Url               0\n",
              "Primary_Genre              0\n",
              "Content_Rating             0\n",
              "Size_Bytes                 0\n",
              "Required_IOS_Version       0\n",
              "Released                   0\n",
              "Updated                    0\n",
              "Version                    0\n",
              "Price                      0\n",
              "Currency                   0\n",
              "Free                       0\n",
              "DeveloperId                0\n",
              "Developer                  0\n",
              "Average_User_Rating        0\n",
              "Reviews                    0\n",
              "Current_Version_Score      0\n",
              "Current_Version_Reviews    0\n",
              "dtype: int64"
            ]
          },
          "execution_count": 26,
          "metadata": {},
          "output_type": "execute_result"
        }
      ],
      "source": [
        "df.isnull().sum()"
      ]
    },
    {
      "cell_type": "markdown",
      "id": "6a1721cf",
      "metadata": {
        "papermill": {
          "duration": 0.045497,
          "end_time": "2023-08-18T14:58:34.618296",
          "exception": false,
          "start_time": "2023-08-18T14:58:34.572799",
          "status": "completed"
        },
        "tags": [],
        "id": "6a1721cf"
      },
      "source": [
        "# Checking for Duplicate Values"
      ]
    },
    {
      "cell_type": "code",
      "execution_count": null,
      "id": "edb4dcdd",
      "metadata": {
        "execution": {
          "iopub.execute_input": "2023-08-18T14:58:34.713607Z",
          "iopub.status.busy": "2023-08-18T14:58:34.712699Z",
          "iopub.status.idle": "2023-08-18T14:58:39.198007Z",
          "shell.execute_reply": "2023-08-18T14:58:39.196256Z"
        },
        "papermill": {
          "duration": 4.53807,
          "end_time": "2023-08-18T14:58:39.201428",
          "exception": false,
          "start_time": "2023-08-18T14:58:34.663358",
          "status": "completed"
        },
        "tags": [],
        "id": "edb4dcdd"
      },
      "outputs": [],
      "source": [
        "# Define the subset of columns to identify duplicates\n",
        "subset_columns = ['App_Id', 'App_Name', 'AppStore_Url', 'Primary_Genre', 'Content_Rating',\n",
        "                  'Size_Bytes', 'Required_IOS_Version', 'Released', 'Updated', 'Version',\n",
        "                  'Price', 'Currency', 'Free', 'DeveloperId', 'Developer',\n",
        "                  'Average_User_Rating', 'Reviews']\n",
        "\n",
        "# Find duplicate rows based on the subset of columns\n",
        "duplicate_rows = df[df.duplicated(subset=subset_columns, keep=False)]\n",
        "\n"
      ]
    },
    {
      "cell_type": "code",
      "execution_count": null,
      "id": "a77cb627",
      "metadata": {
        "execution": {
          "iopub.execute_input": "2023-08-18T14:58:39.294805Z",
          "iopub.status.busy": "2023-08-18T14:58:39.293981Z",
          "iopub.status.idle": "2023-08-18T14:58:39.668208Z",
          "shell.execute_reply": "2023-08-18T14:58:39.667025Z"
        },
        "papermill": {
          "duration": 0.424785,
          "end_time": "2023-08-18T14:58:39.670783",
          "exception": false,
          "start_time": "2023-08-18T14:58:39.245998",
          "status": "completed"
        },
        "tags": [],
        "id": "a77cb627",
        "outputId": "d6e74a8e-a4e5-4b7d-f7fd-73e8e37b860d"
      },
      "outputs": [
        {
          "data": {
            "text/plain": [
              "True"
            ]
          },
          "execution_count": 28,
          "metadata": {},
          "output_type": "execute_result"
        }
      ],
      "source": [
        "#Hence its Rturn dublicate value\n",
        "boolean = df['App_Name'].duplicated().any()\n",
        "boolean"
      ]
    },
    {
      "cell_type": "code",
      "execution_count": null,
      "id": "a5272b8a",
      "metadata": {
        "execution": {
          "iopub.execute_input": "2023-08-18T14:58:39.763918Z",
          "iopub.status.busy": "2023-08-18T14:58:39.763434Z",
          "iopub.status.idle": "2023-08-18T14:58:40.543590Z",
          "shell.execute_reply": "2023-08-18T14:58:40.542278Z"
        },
        "papermill": {
          "duration": 0.830055,
          "end_time": "2023-08-18T14:58:40.546724",
          "exception": false,
          "start_time": "2023-08-18T14:58:39.716669",
          "status": "completed"
        },
        "tags": [],
        "id": "a5272b8a"
      },
      "outputs": [],
      "source": [
        "# Remove duplicates from the \"App_Name\" column\n",
        "df = df.drop_duplicates(subset=['App_Name'])\n"
      ]
    },
    {
      "cell_type": "code",
      "execution_count": null,
      "id": "9a00bf54",
      "metadata": {
        "execution": {
          "iopub.execute_input": "2023-08-18T14:58:40.640845Z",
          "iopub.status.busy": "2023-08-18T14:58:40.640370Z",
          "iopub.status.idle": "2023-08-18T14:58:40.985402Z",
          "shell.execute_reply": "2023-08-18T14:58:40.983991Z"
        },
        "papermill": {
          "duration": 0.396278,
          "end_time": "2023-08-18T14:58:40.988123",
          "exception": false,
          "start_time": "2023-08-18T14:58:40.591845",
          "status": "completed"
        },
        "tags": [],
        "id": "9a00bf54",
        "outputId": "7903fb2c-373f-4c58-bec3-3a8525b9f8b0"
      },
      "outputs": [
        {
          "data": {
            "text/plain": [
              "False"
            ]
          },
          "execution_count": 30,
          "metadata": {},
          "output_type": "execute_result"
        }
      ],
      "source": [
        "boolean = df['App_Name'].duplicated().any()\n",
        "boolean"
      ]
    },
    {
      "cell_type": "markdown",
      "id": "1bcd57fe",
      "metadata": {
        "papermill": {
          "duration": 0.044876,
          "end_time": "2023-08-18T14:58:41.077663",
          "exception": false,
          "start_time": "2023-08-18T14:58:41.032787",
          "status": "completed"
        },
        "tags": [],
        "id": "1bcd57fe"
      },
      "source": [
        "Hence now dublicate values are Remove"
      ]
    },
    {
      "cell_type": "code",
      "execution_count": null,
      "id": "b7fca6d5",
      "metadata": {
        "execution": {
          "iopub.execute_input": "2023-08-18T14:58:41.171200Z",
          "iopub.status.busy": "2023-08-18T14:58:41.170732Z",
          "iopub.status.idle": "2023-08-18T14:58:43.222807Z",
          "shell.execute_reply": "2023-08-18T14:58:43.221548Z"
        },
        "papermill": {
          "duration": 2.102129,
          "end_time": "2023-08-18T14:58:43.225388",
          "exception": false,
          "start_time": "2023-08-18T14:58:41.123259",
          "status": "completed"
        },
        "tags": [],
        "id": "b7fca6d5",
        "outputId": "8e2f074d-2d7f-4ab9-fdf1-4c92f724b357"
      },
      "outputs": [
        {
          "data": {
            "text/plain": [
              "A+ Paper Guide                  1\n",
              "A-Z Synonyms Dictionary         1\n",
              "A.P. Telangana Legal Reports    1\n",
              "A19BestPracticeSystems          1\n",
              "A2 Directory                    1\n",
              "                               ..\n",
              "Sổ tay đảng viên Thái Bình      1\n",
              "São Gabriel Segura              1\n",
              "Syno DS Monitor                 1\n",
              "Sát hạch lái xe ôtô             1\n",
              "Sổ Điểm Thông Minh              1\n",
              "Name: App_Name, Length: 1223507, dtype: int64"
            ]
          },
          "execution_count": 31,
          "metadata": {},
          "output_type": "execute_result"
        }
      ],
      "source": [
        "df['App_Name'].value_counts().sort_values(ascending=False)"
      ]
    },
    {
      "cell_type": "markdown",
      "id": "e00dc795",
      "metadata": {
        "papermill": {
          "duration": 0.04386,
          "end_time": "2023-08-18T14:58:43.313913",
          "exception": false,
          "start_time": "2023-08-18T14:58:43.270053",
          "status": "completed"
        },
        "tags": [],
        "id": "e00dc795"
      },
      "source": [
        "## No of unique values in all columns"
      ]
    },
    {
      "cell_type": "code",
      "execution_count": null,
      "id": "e382edde",
      "metadata": {
        "execution": {
          "iopub.execute_input": "2023-08-18T14:58:43.402741Z",
          "iopub.status.busy": "2023-08-18T14:58:43.402357Z",
          "iopub.status.idle": "2023-08-18T14:58:47.653481Z",
          "shell.execute_reply": "2023-08-18T14:58:47.652185Z"
        },
        "papermill": {
          "duration": 4.298329,
          "end_time": "2023-08-18T14:58:47.655886",
          "exception": false,
          "start_time": "2023-08-18T14:58:43.357557",
          "status": "completed"
        },
        "tags": [],
        "id": "e382edde",
        "outputId": "788a7225-663d-4f1b-b829-402a588a729c"
      },
      "outputs": [
        {
          "data": {
            "text/html": [
              "<div>\n",
              "<style scoped>\n",
              "    .dataframe tbody tr th:only-of-type {\n",
              "        vertical-align: middle;\n",
              "    }\n",
              "\n",
              "    .dataframe tbody tr th {\n",
              "        vertical-align: top;\n",
              "    }\n",
              "\n",
              "    .dataframe thead th {\n",
              "        text-align: right;\n",
              "    }\n",
              "</style>\n",
              "<table border=\"1\" class=\"dataframe\">\n",
              "  <thead>\n",
              "    <tr style=\"text-align: right;\">\n",
              "      <th></th>\n",
              "      <th>index</th>\n",
              "      <th>unique_values</th>\n",
              "    </tr>\n",
              "  </thead>\n",
              "  <tbody>\n",
              "    <tr>\n",
              "      <th>0</th>\n",
              "      <td>App_Id</td>\n",
              "      <td>1223507</td>\n",
              "    </tr>\n",
              "    <tr>\n",
              "      <th>1</th>\n",
              "      <td>App_Name</td>\n",
              "      <td>1223507</td>\n",
              "    </tr>\n",
              "    <tr>\n",
              "      <th>2</th>\n",
              "      <td>AppStore_Url</td>\n",
              "      <td>1223507</td>\n",
              "    </tr>\n",
              "    <tr>\n",
              "      <th>3</th>\n",
              "      <td>Primary_Genre</td>\n",
              "      <td>26</td>\n",
              "    </tr>\n",
              "    <tr>\n",
              "      <th>4</th>\n",
              "      <td>Content_Rating</td>\n",
              "      <td>5</td>\n",
              "    </tr>\n",
              "    <tr>\n",
              "      <th>5</th>\n",
              "      <td>Size_Bytes</td>\n",
              "      <td>254667</td>\n",
              "    </tr>\n",
              "    <tr>\n",
              "      <th>6</th>\n",
              "      <td>Required_IOS_Version</td>\n",
              "      <td>258</td>\n",
              "    </tr>\n",
              "    <tr>\n",
              "      <th>7</th>\n",
              "      <td>Released</td>\n",
              "      <td>660985</td>\n",
              "    </tr>\n",
              "    <tr>\n",
              "      <th>8</th>\n",
              "      <td>Updated</td>\n",
              "      <td>1189472</td>\n",
              "    </tr>\n",
              "    <tr>\n",
              "      <th>9</th>\n",
              "      <td>Version</td>\n",
              "      <td>41127</td>\n",
              "    </tr>\n",
              "    <tr>\n",
              "      <th>10</th>\n",
              "      <td>Price</td>\n",
              "      <td>88</td>\n",
              "    </tr>\n",
              "    <tr>\n",
              "      <th>11</th>\n",
              "      <td>Currency</td>\n",
              "      <td>1</td>\n",
              "    </tr>\n",
              "    <tr>\n",
              "      <th>12</th>\n",
              "      <td>Free</td>\n",
              "      <td>2</td>\n",
              "    </tr>\n",
              "    <tr>\n",
              "      <th>13</th>\n",
              "      <td>DeveloperId</td>\n",
              "      <td>507403</td>\n",
              "    </tr>\n",
              "    <tr>\n",
              "      <th>14</th>\n",
              "      <td>Developer</td>\n",
              "      <td>503391</td>\n",
              "    </tr>\n",
              "    <tr>\n",
              "      <th>15</th>\n",
              "      <td>Average_User_Rating</td>\n",
              "      <td>44945</td>\n",
              "    </tr>\n",
              "    <tr>\n",
              "      <th>16</th>\n",
              "      <td>Reviews</td>\n",
              "      <td>13628</td>\n",
              "    </tr>\n",
              "    <tr>\n",
              "      <th>17</th>\n",
              "      <td>Current_Version_Score</td>\n",
              "      <td>44945</td>\n",
              "    </tr>\n",
              "    <tr>\n",
              "      <th>18</th>\n",
              "      <td>Current_Version_Reviews</td>\n",
              "      <td>13628</td>\n",
              "    </tr>\n",
              "  </tbody>\n",
              "</table>\n",
              "</div>"
            ],
            "text/plain": [
              "                      index  unique_values\n",
              "0                    App_Id        1223507\n",
              "1                  App_Name        1223507\n",
              "2              AppStore_Url        1223507\n",
              "3             Primary_Genre             26\n",
              "4            Content_Rating              5\n",
              "5                Size_Bytes         254667\n",
              "6      Required_IOS_Version            258\n",
              "7                  Released         660985\n",
              "8                   Updated        1189472\n",
              "9                   Version          41127\n",
              "10                    Price             88\n",
              "11                 Currency              1\n",
              "12                     Free              2\n",
              "13              DeveloperId         507403\n",
              "14                Developer         503391\n",
              "15      Average_User_Rating          44945\n",
              "16                  Reviews          13628\n",
              "17    Current_Version_Score          44945\n",
              "18  Current_Version_Reviews          13628"
            ]
          },
          "execution_count": 32,
          "metadata": {},
          "output_type": "execute_result"
        }
      ],
      "source": [
        "#Lets See the unique values in dataset\n",
        "df.nunique().reset_index(name = 'unique_values')"
      ]
    },
    {
      "cell_type": "markdown",
      "id": "2713c5d2",
      "metadata": {
        "papermill": {
          "duration": 0.053626,
          "end_time": "2023-08-18T14:58:47.759740",
          "exception": false,
          "start_time": "2023-08-18T14:58:47.706114",
          "status": "completed"
        },
        "tags": [],
        "id": "2713c5d2"
      },
      "source": [
        "# Exploration of Numeric Columns\n",
        "* Size_Bytes,\n",
        "* Price,\n",
        "* Average_User_Rating,\n",
        "* Reviews,\n",
        "* Currency\n",
        "* Current_Version_Score,\n",
        "* Current_Version_Reviews"
      ]
    },
    {
      "cell_type": "code",
      "execution_count": null,
      "id": "3c2e02f4",
      "metadata": {
        "execution": {
          "iopub.execute_input": "2023-08-18T14:58:47.860439Z",
          "iopub.status.busy": "2023-08-18T14:58:47.860012Z",
          "iopub.status.idle": "2023-08-18T14:58:47.878162Z",
          "shell.execute_reply": "2023-08-18T14:58:47.877048Z"
        },
        "papermill": {
          "duration": 0.075632,
          "end_time": "2023-08-18T14:58:47.880394",
          "exception": false,
          "start_time": "2023-08-18T14:58:47.804762",
          "status": "completed"
        },
        "tags": [],
        "id": "3c2e02f4",
        "outputId": "03b47072-d26f-47dd-92be-ec7970c1dee9"
      },
      "outputs": [
        {
          "data": {
            "text/plain": [
              "array([0.0000e+00, 2.9900e+00, 1.9900e+00, 9.9000e-01, 4.9900e+00,\n",
              "       9.9900e+00, 5.9900e+00, 6.9900e+00, 1.6990e+01, 1.9990e+01,\n",
              "       3.9990e+01, 5.9990e+01, 8.9900e+00, 7.9900e+00, 1.8990e+01,\n",
              "       3.9900e+00, 2.4990e+01, 1.4990e+01, 2.8990e+01, 2.1990e+01,\n",
              "       1.3990e+01, 1.0990e+01, 1.1990e+01, 1.2999e+02, 2.2990e+01,\n",
              "       1.3999e+02, 2.5990e+01, 1.2990e+01, 4.9990e+01, 2.3990e+01,\n",
              "       1.1999e+02, 7.9990e+01, 1.7990e+01, 4.9999e+02, 2.4999e+02,\n",
              "       1.9999e+02, 2.2999e+02, 3.4990e+01, 2.0990e+01, 9.9990e+01,\n",
              "       3.3990e+01, 5.4990e+01, 4.5990e+01, 4.4990e+01, 2.9990e+01,\n",
              "       6.9990e+01, 2.7990e+01, 8.4990e+01, 6.4990e+01, 1.5990e+01,\n",
              "       2.6990e+01, 3.5990e+01, 4.0990e+01, 1.7499e+02, 1.4999e+02,\n",
              "       9.4990e+01, 7.4990e+01, 3.4999e+02, 4.8990e+01, 1.0999e+02,\n",
              "       3.8990e+01, 3.1990e+01, 3.6990e+01, 8.9990e+01, 1.6999e+02,\n",
              "       1.2499e+02, 3.9999e+02, 2.1999e+02, 4.3990e+01, 6.9999e+02,\n",
              "       4.2990e+01, 3.7990e+01, 2.9999e+02, 4.4999e+02, 1.5999e+02,\n",
              "       4.1990e+01, 3.2990e+01, 3.0990e+01, 7.9999e+02, 9.9999e+02,\n",
              "       4.7990e+01, 1.7999e+02, 2.0999e+02, 2.3999e+02, 5.9999e+02,\n",
              "       4.6990e+01, 8.9999e+02, 1.8999e+02])"
            ]
          },
          "execution_count": 33,
          "metadata": {},
          "output_type": "execute_result"
        }
      ],
      "source": [
        "df['Price'].unique()"
      ]
    },
    {
      "cell_type": "code",
      "execution_count": null,
      "id": "add18326",
      "metadata": {
        "execution": {
          "iopub.execute_input": "2023-08-18T14:58:47.970119Z",
          "iopub.status.busy": "2023-08-18T14:58:47.969744Z",
          "iopub.status.idle": "2023-08-18T14:58:48.360084Z",
          "shell.execute_reply": "2023-08-18T14:58:48.358917Z"
        },
        "papermill": {
          "duration": 0.437919,
          "end_time": "2023-08-18T14:58:48.362253",
          "exception": false,
          "start_time": "2023-08-18T14:58:47.924334",
          "status": "completed"
        },
        "tags": [],
        "id": "add18326",
        "outputId": "536e87c9-66e6-407c-d51e-6c21e137935e"
      },
      "outputs": [
        {
          "data": {
            "text/plain": [
              "array([21993472.0, 13135872.0, 21943296.0, ..., 119404544.0, 596570.0,\n",
              "       506896.0], dtype=object)"
            ]
          },
          "execution_count": 34,
          "metadata": {},
          "output_type": "execute_result"
        }
      ],
      "source": [
        "\n",
        "df['Size_Bytes'].unique()\n"
      ]
    },
    {
      "cell_type": "code",
      "execution_count": null,
      "id": "17d0b771",
      "metadata": {
        "execution": {
          "iopub.execute_input": "2023-08-18T14:58:48.452332Z",
          "iopub.status.busy": "2023-08-18T14:58:48.451890Z",
          "iopub.status.idle": "2023-08-18T14:58:48.488166Z",
          "shell.execute_reply": "2023-08-18T14:58:48.487142Z"
        },
        "papermill": {
          "duration": 0.08413,
          "end_time": "2023-08-18T14:58:48.490509",
          "exception": false,
          "start_time": "2023-08-18T14:58:48.406379",
          "status": "completed"
        },
        "tags": [],
        "id": "17d0b771",
        "outputId": "3d022272-aad6-40f2-93d1-8908b38ae550"
      },
      "outputs": [
        {
          "data": {
            "text/plain": [
              "array([    0,     1,  1285, ..., 12691, 35476, 10481])"
            ]
          },
          "execution_count": 35,
          "metadata": {},
          "output_type": "execute_result"
        }
      ],
      "source": [
        "df['Reviews'].unique()\n"
      ]
    },
    {
      "cell_type": "code",
      "execution_count": null,
      "id": "0c7c59b1",
      "metadata": {
        "execution": {
          "iopub.execute_input": "2023-08-18T14:58:48.582786Z",
          "iopub.status.busy": "2023-08-18T14:58:48.581413Z",
          "iopub.status.idle": "2023-08-18T14:58:48.611105Z",
          "shell.execute_reply": "2023-08-18T14:58:48.609934Z"
        },
        "papermill": {
          "duration": 0.078628,
          "end_time": "2023-08-18T14:58:48.613511",
          "exception": false,
          "start_time": "2023-08-18T14:58:48.534883",
          "status": "completed"
        },
        "tags": [],
        "id": "0c7c59b1",
        "outputId": "864c9345-92f0-4437-a0bc-de8e03afe7e1"
      },
      "outputs": [
        {
          "data": {
            "text/plain": [
              "array([0.     , 5.     , 4.78132, ..., 4.00352, 3.91608, 4.82733])"
            ]
          },
          "execution_count": 36,
          "metadata": {},
          "output_type": "execute_result"
        }
      ],
      "source": [
        "df['Current_Version_Score'].unique()"
      ]
    },
    {
      "cell_type": "code",
      "execution_count": null,
      "id": "14881b05",
      "metadata": {
        "execution": {
          "iopub.execute_input": "2023-08-18T14:58:48.775520Z",
          "iopub.status.busy": "2023-08-18T14:58:48.774989Z",
          "iopub.status.idle": "2023-08-18T14:58:48.792064Z",
          "shell.execute_reply": "2023-08-18T14:58:48.791274Z"
        },
        "papermill": {
          "duration": 0.0657,
          "end_time": "2023-08-18T14:58:48.794429",
          "exception": false,
          "start_time": "2023-08-18T14:58:48.728729",
          "status": "completed"
        },
        "tags": [],
        "id": "14881b05",
        "outputId": "5a19e4cf-f5b0-4458-ec29-e274b2cdf296"
      },
      "outputs": [
        {
          "data": {
            "text/plain": [
              "array([    0,     1,  1285, ..., 12691, 35476, 10481])"
            ]
          },
          "execution_count": 37,
          "metadata": {},
          "output_type": "execute_result"
        }
      ],
      "source": [
        "df['Current_Version_Reviews'].unique()"
      ]
    },
    {
      "cell_type": "code",
      "execution_count": null,
      "id": "03e9a8f0",
      "metadata": {
        "execution": {
          "iopub.execute_input": "2023-08-18T14:58:48.887357Z",
          "iopub.status.busy": "2023-08-18T14:58:48.886935Z",
          "iopub.status.idle": "2023-08-18T14:58:48.990177Z",
          "shell.execute_reply": "2023-08-18T14:58:48.988930Z"
        },
        "papermill": {
          "duration": 0.152436,
          "end_time": "2023-08-18T14:58:48.992588",
          "exception": false,
          "start_time": "2023-08-18T14:58:48.840152",
          "status": "completed"
        },
        "tags": [],
        "id": "03e9a8f0",
        "outputId": "3c12879d-a5be-4609-9c99-eb17d10fded2"
      },
      "outputs": [
        {
          "data": {
            "text/plain": [
              "array(['USD'], dtype=object)"
            ]
          },
          "execution_count": 38,
          "metadata": {},
          "output_type": "execute_result"
        }
      ],
      "source": [
        "# usd is used as  currency\n",
        "df['Currency'].unique()"
      ]
    },
    {
      "cell_type": "code",
      "execution_count": null,
      "id": "f7210e91",
      "metadata": {
        "execution": {
          "iopub.execute_input": "2023-08-18T14:58:49.085444Z",
          "iopub.status.busy": "2023-08-18T14:58:49.084795Z",
          "iopub.status.idle": "2023-08-18T14:58:49.111048Z",
          "shell.execute_reply": "2023-08-18T14:58:49.110085Z"
        },
        "papermill": {
          "duration": 0.075062,
          "end_time": "2023-08-18T14:58:49.113300",
          "exception": false,
          "start_time": "2023-08-18T14:58:49.038238",
          "status": "completed"
        },
        "tags": [],
        "id": "f7210e91",
        "outputId": "d1e2aaf3-ebdc-4b54-ad4c-3e38b050d6bd"
      },
      "outputs": [
        {
          "data": {
            "text/plain": [
              "0        679721\n",
              "1        139728\n",
              "2         71420\n",
              "3         44669\n",
              "4         30560\n",
              "          ...  \n",
              "22502         1\n",
              "11006         1\n",
              "7685          1\n",
              "6074          1\n",
              "10481         1\n",
              "Name: Reviews, Length: 13628, dtype: int64"
            ]
          },
          "execution_count": 39,
          "metadata": {},
          "output_type": "execute_result"
        }
      ],
      "source": [
        "\n",
        "df.Reviews.value_counts ()"
      ]
    },
    {
      "cell_type": "markdown",
      "id": "62ee76e9",
      "metadata": {
        "papermill": {
          "duration": 0.044681,
          "end_time": "2023-08-18T14:58:49.202828",
          "exception": false,
          "start_time": "2023-08-18T14:58:49.158147",
          "status": "completed"
        },
        "tags": [],
        "id": "62ee76e9"
      },
      "source": [
        "## Converting Convert bytes to megabytes (MB)"
      ]
    },
    {
      "cell_type": "code",
      "execution_count": null,
      "id": "c6139512",
      "metadata": {
        "execution": {
          "iopub.execute_input": "2023-08-18T14:58:49.296314Z",
          "iopub.status.busy": "2023-08-18T14:58:49.295894Z",
          "iopub.status.idle": "2023-08-18T14:58:50.025115Z",
          "shell.execute_reply": "2023-08-18T14:58:50.023898Z"
        },
        "papermill": {
          "duration": 0.78005,
          "end_time": "2023-08-18T14:58:50.028150",
          "exception": false,
          "start_time": "2023-08-18T14:58:49.248100",
          "status": "completed"
        },
        "tags": [],
        "id": "c6139512"
      },
      "outputs": [],
      "source": [
        "# Create a copy of the DataFrame to avoid the SettingWithCopyWarning\n",
        "df_copy = df.copy()\n",
        "\n",
        "# Convert the \"Size_Bytes\" column to numeric values with NaN for non-convertible values\n",
        "df_copy['Size_Bytes'] = pd.to_numeric(df_copy['Size_Bytes'], errors='coerce')\n",
        "\n",
        "# Convert bytes to megabytes (MB)\n",
        "df_copy['size_mb'] = df_copy['Size_Bytes'] / (1024 * 1024)\n"
      ]
    },
    {
      "cell_type": "code",
      "execution_count": null,
      "id": "8d475904",
      "metadata": {
        "execution": {
          "iopub.execute_input": "2023-08-18T14:58:50.121875Z",
          "iopub.status.busy": "2023-08-18T14:58:50.121494Z",
          "iopub.status.idle": "2023-08-18T14:58:52.084219Z",
          "shell.execute_reply": "2023-08-18T14:58:52.082629Z"
        },
        "papermill": {
          "duration": 2.011767,
          "end_time": "2023-08-18T14:58:52.086262",
          "exception": true,
          "start_time": "2023-08-18T14:58:50.074495",
          "status": "failed"
        },
        "tags": [],
        "id": "8d475904",
        "outputId": "68cd91e9-597e-4441-e9ff-83ca7d70bb89"
      },
      "outputs": [
        {
          "ename": "KeyError",
          "evalue": "'size_mb'",
          "output_type": "error",
          "traceback": [
            "\u001b[0;31m---------------------------------------------------------------------------\u001b[0m",
            "\u001b[0;31mKeyError\u001b[0m                                  Traceback (most recent call last)",
            "File \u001b[0;32m/opt/conda/lib/python3.10/site-packages/pandas/core/indexes/base.py:3802\u001b[0m, in \u001b[0;36mIndex.get_loc\u001b[0;34m(self, key, method, tolerance)\u001b[0m\n\u001b[1;32m   3801\u001b[0m \u001b[38;5;28;01mtry\u001b[39;00m:\n\u001b[0;32m-> 3802\u001b[0m     \u001b[38;5;28;01mreturn\u001b[39;00m \u001b[38;5;28;43mself\u001b[39;49m\u001b[38;5;241;43m.\u001b[39;49m\u001b[43m_engine\u001b[49m\u001b[38;5;241;43m.\u001b[39;49m\u001b[43mget_loc\u001b[49m\u001b[43m(\u001b[49m\u001b[43mcasted_key\u001b[49m\u001b[43m)\u001b[49m\n\u001b[1;32m   3803\u001b[0m \u001b[38;5;28;01mexcept\u001b[39;00m \u001b[38;5;167;01mKeyError\u001b[39;00m \u001b[38;5;28;01mas\u001b[39;00m err:\n",
            "File \u001b[0;32m/opt/conda/lib/python3.10/site-packages/pandas/_libs/index.pyx:138\u001b[0m, in \u001b[0;36mpandas._libs.index.IndexEngine.get_loc\u001b[0;34m()\u001b[0m\n",
            "File \u001b[0;32m/opt/conda/lib/python3.10/site-packages/pandas/_libs/index.pyx:165\u001b[0m, in \u001b[0;36mpandas._libs.index.IndexEngine.get_loc\u001b[0;34m()\u001b[0m\n",
            "File \u001b[0;32mpandas/_libs/hashtable_class_helper.pxi:5745\u001b[0m, in \u001b[0;36mpandas._libs.hashtable.PyObjectHashTable.get_item\u001b[0;34m()\u001b[0m\n",
            "File \u001b[0;32mpandas/_libs/hashtable_class_helper.pxi:5753\u001b[0m, in \u001b[0;36mpandas._libs.hashtable.PyObjectHashTable.get_item\u001b[0;34m()\u001b[0m\n",
            "\u001b[0;31mKeyError\u001b[0m: 'size_mb'",
            "\nThe above exception was the direct cause of the following exception:\n",
            "\u001b[0;31mKeyError\u001b[0m                                  Traceback (most recent call last)",
            "Cell \u001b[0;32mIn[41], line 1\u001b[0m\n\u001b[0;32m----> 1\u001b[0m \u001b[43mdf\u001b[49m\u001b[43m[\u001b[49m\u001b[38;5;124;43m'\u001b[39;49m\u001b[38;5;124;43msize_mb\u001b[39;49m\u001b[38;5;124;43m'\u001b[39;49m\u001b[43m]\u001b[49m\u001b[38;5;241m.\u001b[39mhead(\u001b[38;5;241m5\u001b[39m)\n",
            "File \u001b[0;32m/opt/conda/lib/python3.10/site-packages/pandas/core/frame.py:3807\u001b[0m, in \u001b[0;36mDataFrame.__getitem__\u001b[0;34m(self, key)\u001b[0m\n\u001b[1;32m   3805\u001b[0m \u001b[38;5;28;01mif\u001b[39;00m \u001b[38;5;28mself\u001b[39m\u001b[38;5;241m.\u001b[39mcolumns\u001b[38;5;241m.\u001b[39mnlevels \u001b[38;5;241m>\u001b[39m \u001b[38;5;241m1\u001b[39m:\n\u001b[1;32m   3806\u001b[0m     \u001b[38;5;28;01mreturn\u001b[39;00m \u001b[38;5;28mself\u001b[39m\u001b[38;5;241m.\u001b[39m_getitem_multilevel(key)\n\u001b[0;32m-> 3807\u001b[0m indexer \u001b[38;5;241m=\u001b[39m \u001b[38;5;28;43mself\u001b[39;49m\u001b[38;5;241;43m.\u001b[39;49m\u001b[43mcolumns\u001b[49m\u001b[38;5;241;43m.\u001b[39;49m\u001b[43mget_loc\u001b[49m\u001b[43m(\u001b[49m\u001b[43mkey\u001b[49m\u001b[43m)\u001b[49m\n\u001b[1;32m   3808\u001b[0m \u001b[38;5;28;01mif\u001b[39;00m is_integer(indexer):\n\u001b[1;32m   3809\u001b[0m     indexer \u001b[38;5;241m=\u001b[39m [indexer]\n",
            "File \u001b[0;32m/opt/conda/lib/python3.10/site-packages/pandas/core/indexes/base.py:3804\u001b[0m, in \u001b[0;36mIndex.get_loc\u001b[0;34m(self, key, method, tolerance)\u001b[0m\n\u001b[1;32m   3802\u001b[0m     \u001b[38;5;28;01mreturn\u001b[39;00m \u001b[38;5;28mself\u001b[39m\u001b[38;5;241m.\u001b[39m_engine\u001b[38;5;241m.\u001b[39mget_loc(casted_key)\n\u001b[1;32m   3803\u001b[0m \u001b[38;5;28;01mexcept\u001b[39;00m \u001b[38;5;167;01mKeyError\u001b[39;00m \u001b[38;5;28;01mas\u001b[39;00m err:\n\u001b[0;32m-> 3804\u001b[0m     \u001b[38;5;28;01mraise\u001b[39;00m \u001b[38;5;167;01mKeyError\u001b[39;00m(key) \u001b[38;5;28;01mfrom\u001b[39;00m \u001b[38;5;21;01merr\u001b[39;00m\n\u001b[1;32m   3805\u001b[0m \u001b[38;5;28;01mexcept\u001b[39;00m \u001b[38;5;167;01mTypeError\u001b[39;00m:\n\u001b[1;32m   3806\u001b[0m     \u001b[38;5;66;03m# If we have a listlike key, _check_indexing_error will raise\u001b[39;00m\n\u001b[1;32m   3807\u001b[0m     \u001b[38;5;66;03m#  InvalidIndexError. Otherwise we fall through and re-raise\u001b[39;00m\n\u001b[1;32m   3808\u001b[0m     \u001b[38;5;66;03m#  the TypeError.\u001b[39;00m\n\u001b[1;32m   3809\u001b[0m     \u001b[38;5;28mself\u001b[39m\u001b[38;5;241m.\u001b[39m_check_indexing_error(key)\n",
            "\u001b[0;31mKeyError\u001b[0m: 'size_mb'"
          ]
        }
      ],
      "source": [
        "df['size_mb'].head(5)"
      ]
    },
    {
      "cell_type": "code",
      "execution_count": null,
      "id": "8f058493",
      "metadata": {
        "execution": {
          "iopub.execute_input": "2023-08-18T11:16:12.971679Z",
          "iopub.status.busy": "2023-08-18T11:16:12.971019Z",
          "iopub.status.idle": "2023-08-18T11:16:13.082661Z",
          "shell.execute_reply": "2023-08-18T11:16:13.080918Z",
          "shell.execute_reply.started": "2023-08-18T11:16:12.971626Z"
        },
        "papermill": {
          "duration": null,
          "end_time": null,
          "exception": null,
          "start_time": null,
          "status": "pending"
        },
        "tags": [],
        "id": "8f058493"
      },
      "outputs": [],
      "source": [
        "df['size_mb'].describe()"
      ]
    },
    {
      "cell_type": "code",
      "execution_count": null,
      "id": "5ae6794c",
      "metadata": {
        "execution": {
          "iopub.execute_input": "2023-08-18T11:51:50.050817Z",
          "iopub.status.busy": "2023-08-18T11:51:50.050394Z",
          "iopub.status.idle": "2023-08-18T11:51:52.184356Z",
          "shell.execute_reply": "2023-08-18T11:51:52.183228Z",
          "shell.execute_reply.started": "2023-08-18T11:51:50.050786Z"
        },
        "papermill": {
          "duration": null,
          "end_time": null,
          "exception": null,
          "start_time": null,
          "status": "pending"
        },
        "tags": [],
        "id": "5ae6794c"
      },
      "outputs": [],
      "source": [
        "df.info()"
      ]
    },
    {
      "cell_type": "markdown",
      "id": "3c785401",
      "metadata": {
        "papermill": {
          "duration": null,
          "end_time": null,
          "exception": null,
          "start_time": null,
          "status": "pending"
        },
        "tags": [],
        "id": "3c785401"
      },
      "source": [
        "# Convet Content_Rating into Age_group"
      ]
    },
    {
      "cell_type": "markdown",
      "id": "e82466cb",
      "metadata": {
        "papermill": {
          "duration": null,
          "end_time": null,
          "exception": null,
          "start_time": null,
          "status": "pending"
        },
        "tags": [],
        "id": "e82466cb"
      },
      "source": [
        "## Feature Engineering¶"
      ]
    },
    {
      "cell_type": "code",
      "execution_count": null,
      "id": "bee32526",
      "metadata": {
        "execution": {
          "iopub.execute_input": "2023-08-18T13:56:54.339775Z",
          "iopub.status.busy": "2023-08-18T13:56:54.339288Z",
          "iopub.status.idle": "2023-08-18T13:56:54.452026Z",
          "shell.execute_reply": "2023-08-18T13:56:54.450569Z",
          "shell.execute_reply.started": "2023-08-18T13:56:54.339740Z"
        },
        "papermill": {
          "duration": null,
          "end_time": null,
          "exception": null,
          "start_time": null,
          "status": "pending"
        },
        "tags": [],
        "id": "bee32526"
      },
      "outputs": [],
      "source": [
        "# Convet Content_Rating into Age_group\n",
        "df['Content_Rating'].unique()"
      ]
    },
    {
      "cell_type": "code",
      "execution_count": null,
      "id": "9a928017",
      "metadata": {
        "execution": {
          "iopub.execute_input": "2023-08-18T13:57:01.642794Z",
          "iopub.status.busy": "2023-08-18T13:57:01.642349Z",
          "iopub.status.idle": "2023-08-18T13:57:01.858030Z",
          "shell.execute_reply": "2023-08-18T13:57:01.856665Z",
          "shell.execute_reply.started": "2023-08-18T13:57:01.642749Z"
        },
        "papermill": {
          "duration": null,
          "end_time": null,
          "exception": null,
          "start_time": null,
          "status": "pending"
        },
        "tags": [],
        "id": "9a928017"
      },
      "outputs": [],
      "source": [
        "\n",
        "# Categorize apps based on the number of reviews\n",
        "df.loc[(df['Reviews'] > 0) & (df['Reviews'] <= 10000.0), 'ReviewCategory'] = 'Less than 10K'\n",
        "df.loc[(df['Reviews'] > 10000) & (df['Reviews'] <= 500000.0), 'ReviewCategory'] = 'Between 10K and 500K'\n",
        "df.loc[(df['Reviews'] > 500000) & (df['Reviews'] <= 1000000), 'ReviewCategory'] = 'Between 500K and 1Mil'\n",
        "df.loc[(df['Reviews'] > 1000000) & (df['Reviews'] <= 22685334), 'ReviewCategory'] = 'Million Plus'\n",
        "\n",
        "# Display the value counts of each review category\n",
        "review_category_counts = df['ReviewCategory'].value_counts()\n",
        "print(review_category_counts)"
      ]
    },
    {
      "cell_type": "code",
      "execution_count": null,
      "id": "d3e0e977",
      "metadata": {
        "execution": {
          "iopub.execute_input": "2023-08-18T14:07:25.403029Z",
          "iopub.status.busy": "2023-08-18T14:07:25.402613Z",
          "iopub.status.idle": "2023-08-18T14:07:25.411185Z",
          "shell.execute_reply": "2023-08-18T14:07:25.409655Z",
          "shell.execute_reply.started": "2023-08-18T14:07:25.402997Z"
        },
        "papermill": {
          "duration": null,
          "end_time": null,
          "exception": null,
          "start_time": null,
          "status": "pending"
        },
        "tags": [],
        "id": "d3e0e977"
      },
      "outputs": [],
      "source": [
        "df.columns\n"
      ]
    },
    {
      "cell_type": "code",
      "execution_count": null,
      "id": "95b270bb",
      "metadata": {
        "execution": {
          "iopub.execute_input": "2023-08-18T14:07:28.799882Z",
          "iopub.status.busy": "2023-08-18T14:07:28.799473Z",
          "iopub.status.idle": "2023-08-18T14:07:29.850461Z",
          "shell.execute_reply": "2023-08-18T14:07:29.849528Z",
          "shell.execute_reply.started": "2023-08-18T14:07:28.799850Z"
        },
        "papermill": {
          "duration": null,
          "end_time": null,
          "exception": null,
          "start_time": null,
          "status": "pending"
        },
        "tags": [],
        "id": "95b270bb"
      },
      "outputs": [],
      "source": [
        "# Replace Content_Rating categories\n",
        "df[\"Content_Rating\"] = df[\"Content_Rating\"].replace({\n",
        "    \"4+\": \"Children\",\n",
        "    \"9+\": \"Children\",\n",
        "    \"12+\": \"Teens\",\n",
        "    \"17+\": \"Adults\",\n",
        "    \"Not yet rated\": \"Everyone\"\n",
        "})\n",
        "\n",
        "# Count the number of apps in each content rating category\n",
        "content_rating_counts = df['Content_Rating'].value_counts()\n",
        "\n",
        "# Plot the bar graph\n",
        "plt.figure(figsize=(10, 6))\n",
        "content_rating_counts.plot(kind='bar', color='purple')\n",
        "plt.xlabel('Content Rating')\n",
        "plt.ylabel('Number of Apps')\n",
        "plt.title('Distribution of Apps Across Content Ratings')\n",
        "plt.xticks(rotation=45)\n",
        "plt.tight_layout()\n",
        "plt.show()"
      ]
    },
    {
      "cell_type": "code",
      "execution_count": null,
      "id": "f1ccfeb5",
      "metadata": {
        "execution": {
          "iopub.execute_input": "2023-08-18T11:54:32.692977Z",
          "iopub.status.busy": "2023-08-18T11:54:32.692470Z",
          "iopub.status.idle": "2023-08-18T11:54:32.772322Z",
          "shell.execute_reply": "2023-08-18T11:54:32.770599Z",
          "shell.execute_reply.started": "2023-08-18T11:54:32.692941Z"
        },
        "papermill": {
          "duration": null,
          "end_time": null,
          "exception": null,
          "start_time": null,
          "status": "pending"
        },
        "tags": [],
        "id": "f1ccfeb5"
      },
      "outputs": [],
      "source": [
        "df['Content_Rating'].value_counts()"
      ]
    },
    {
      "cell_type": "code",
      "execution_count": null,
      "id": "b965ed6b",
      "metadata": {
        "execution": {
          "iopub.execute_input": "2023-08-18T11:54:34.778836Z",
          "iopub.status.busy": "2023-08-18T11:54:34.778323Z",
          "iopub.status.idle": "2023-08-18T11:54:34.848125Z",
          "shell.execute_reply": "2023-08-18T11:54:34.846915Z",
          "shell.execute_reply.started": "2023-08-18T11:54:34.778794Z"
        },
        "papermill": {
          "duration": null,
          "end_time": null,
          "exception": null,
          "start_time": null,
          "status": "pending"
        },
        "tags": [],
        "id": "b965ed6b"
      },
      "outputs": [],
      "source": [
        "df['ReviewCategory'].value_counts()"
      ]
    },
    {
      "cell_type": "code",
      "execution_count": null,
      "id": "434df4eb",
      "metadata": {
        "execution": {
          "iopub.execute_input": "2023-08-18T11:54:36.512635Z",
          "iopub.status.busy": "2023-08-18T11:54:36.512106Z",
          "iopub.status.idle": "2023-08-18T11:54:36.523822Z",
          "shell.execute_reply": "2023-08-18T11:54:36.522346Z",
          "shell.execute_reply.started": "2023-08-18T11:54:36.512592Z"
        },
        "papermill": {
          "duration": null,
          "end_time": null,
          "exception": null,
          "start_time": null,
          "status": "pending"
        },
        "tags": [],
        "id": "434df4eb"
      },
      "outputs": [],
      "source": [
        "#Number of max reviews accuire by ant app\n",
        "df['Reviews'].max()"
      ]
    },
    {
      "cell_type": "markdown",
      "id": "cc830997",
      "metadata": {
        "papermill": {
          "duration": null,
          "end_time": null,
          "exception": null,
          "start_time": null,
          "status": "pending"
        },
        "tags": [],
        "id": "cc830997"
      },
      "source": [
        "# Analysing The Facts on basis of data"
      ]
    },
    {
      "cell_type": "markdown",
      "id": "b33c4ab2",
      "metadata": {
        "papermill": {
          "duration": null,
          "end_time": null,
          "exception": null,
          "start_time": null,
          "status": "pending"
        },
        "tags": [],
        "id": "b33c4ab2"
      },
      "source": [
        "# 1) which App  accuire higher reviews?"
      ]
    },
    {
      "cell_type": "code",
      "execution_count": null,
      "id": "2bbd1721",
      "metadata": {
        "execution": {
          "iopub.execute_input": "2023-08-18T11:54:40.342883Z",
          "iopub.status.busy": "2023-08-18T11:54:40.342390Z",
          "iopub.status.idle": "2023-08-18T11:54:40.355612Z",
          "shell.execute_reply": "2023-08-18T11:54:40.354059Z",
          "shell.execute_reply.started": "2023-08-18T11:54:40.342845Z"
        },
        "papermill": {
          "duration": null,
          "end_time": null,
          "exception": null,
          "start_time": null,
          "status": "pending"
        },
        "tags": [],
        "id": "2bbd1721"
      },
      "outputs": [],
      "source": [
        "#App that accuire higher reviews\n",
        "df['App_Name'].loc[df['Reviews'] == 22685334]"
      ]
    },
    {
      "cell_type": "markdown",
      "id": "1871e217",
      "metadata": {
        "papermill": {
          "duration": null,
          "end_time": null,
          "exception": null,
          "start_time": null,
          "status": "pending"
        },
        "tags": [],
        "id": "1871e217"
      },
      "source": [
        "# 2) Top 10 Apps by higher number of Reviews?"
      ]
    },
    {
      "cell_type": "code",
      "execution_count": null,
      "id": "66b086ad",
      "metadata": {
        "execution": {
          "iopub.execute_input": "2023-08-18T11:54:41.615497Z",
          "iopub.status.busy": "2023-08-18T11:54:41.614309Z",
          "iopub.status.idle": "2023-08-18T11:54:42.474132Z",
          "shell.execute_reply": "2023-08-18T11:54:42.472667Z",
          "shell.execute_reply.started": "2023-08-18T11:54:41.615433Z"
        },
        "papermill": {
          "duration": null,
          "end_time": null,
          "exception": null,
          "start_time": null,
          "status": "pending"
        },
        "tags": [],
        "id": "66b086ad"
      },
      "outputs": [],
      "source": [
        "# Filter and sort the DataFrame to get top-rated apps with reviews >= 1000000\n",
        "top_reviews_apps = df[df['Reviews'] >= 1000000].sort_values(by='Reviews', ascending=False).reset_index(drop=True)\n",
        "\n",
        "# Select columns for output\n",
        "columns_to_select = ['App_Name', 'ReviewCategory', 'Reviews']\n",
        "\n",
        "# Display the top 10 apps\n",
        "top_reviews_apps_top10 = top_reviews_apps[columns_to_select].head(10)\n",
        "print(top_reviews_apps_top10)"
      ]
    },
    {
      "cell_type": "code",
      "execution_count": null,
      "id": "a37e4759",
      "metadata": {
        "execution": {
          "iopub.execute_input": "2023-08-18T11:22:41.758496Z",
          "iopub.status.busy": "2023-08-18T11:22:41.758078Z",
          "iopub.status.idle": "2023-08-18T11:22:42.105630Z",
          "shell.execute_reply": "2023-08-18T11:22:42.104356Z",
          "shell.execute_reply.started": "2023-08-18T11:22:41.758465Z"
        },
        "papermill": {
          "duration": null,
          "end_time": null,
          "exception": null,
          "start_time": null,
          "status": "pending"
        },
        "tags": [],
        "id": "a37e4759"
      },
      "outputs": [],
      "source": [
        "# Create a bar plot\n",
        "plt.figure(figsize=(10, 6))\n",
        "plt.barh(top_reviews_apps_top10['App_Name'], top_reviews_apps_top10['Reviews'], color='skyblue')\n",
        "plt.xlabel('Number of Reviews')\n",
        "plt.ylabel('App Name')\n",
        "plt.title('Top-rated Apps with Reviews >= 1,000,000')\n",
        "plt.gca().invert_yaxis()  # Invert y-axis to display the highest review app on top\n",
        "plt.tight_layout()\n",
        "\n",
        "# Show the plot\n",
        "plt.show()"
      ]
    },
    {
      "cell_type": "code",
      "execution_count": null,
      "id": "d060a590",
      "metadata": {
        "execution": {
          "iopub.execute_input": "2023-08-18T11:54:48.904372Z",
          "iopub.status.busy": "2023-08-18T11:54:48.903865Z",
          "iopub.status.idle": "2023-08-18T11:54:48.944677Z",
          "shell.execute_reply": "2023-08-18T11:54:48.943072Z",
          "shell.execute_reply.started": "2023-08-18T11:54:48.904335Z"
        },
        "papermill": {
          "duration": null,
          "end_time": null,
          "exception": null,
          "start_time": null,
          "status": "pending"
        },
        "tags": [],
        "id": "d060a590"
      },
      "outputs": [],
      "source": [
        "df['Average_User_Rating'].unique()"
      ]
    },
    {
      "cell_type": "markdown",
      "id": "e7c35bba",
      "metadata": {
        "papermill": {
          "duration": null,
          "end_time": null,
          "exception": null,
          "start_time": null,
          "status": "pending"
        },
        "tags": [],
        "id": "e7c35bba"
      },
      "source": [
        "# 3) Which  App  Have Max rating ?"
      ]
    },
    {
      "cell_type": "code",
      "execution_count": null,
      "id": "b7cf0a98",
      "metadata": {
        "execution": {
          "iopub.execute_input": "2023-08-18T11:54:50.460753Z",
          "iopub.status.busy": "2023-08-18T11:54:50.460185Z",
          "iopub.status.idle": "2023-08-18T11:54:50.583436Z",
          "shell.execute_reply": "2023-08-18T11:54:50.581919Z",
          "shell.execute_reply.started": "2023-08-18T11:54:50.460701Z"
        },
        "papermill": {
          "duration": null,
          "end_time": null,
          "exception": null,
          "start_time": null,
          "status": "pending"
        },
        "tags": [],
        "id": "b7cf0a98"
      },
      "outputs": [],
      "source": [
        "# Find the app with the maximum average user rating\n",
        "max_rating_app = df[df['Average_User_Rating'] == df['Average_User_Rating'].max()]\n",
        "\n",
        "# Extract the app name and rating\n",
        "app_name = max_rating_app['App_Name'].values[0]\n",
        "max_rating = max_rating_app['Average_User_Rating'].values[0]\n",
        "\n",
        "# Display the app with the maximum rating\n",
        "print(f\"App with Maximum Rating:\\nApp Name: {app_name}\\nMaximum Rating: {max_rating}\")"
      ]
    },
    {
      "cell_type": "markdown",
      "id": "195292e7",
      "metadata": {
        "papermill": {
          "duration": null,
          "end_time": null,
          "exception": null,
          "start_time": null,
          "status": "pending"
        },
        "tags": [],
        "id": "195292e7"
      },
      "source": [
        "# Top 10 Apps with Highest Average User Ratings?"
      ]
    },
    {
      "cell_type": "code",
      "execution_count": null,
      "id": "1a272454",
      "metadata": {
        "execution": {
          "iopub.execute_input": "2023-08-18T11:26:22.442025Z",
          "iopub.status.busy": "2023-08-18T11:26:22.441474Z",
          "iopub.status.idle": "2023-08-18T11:26:24.448402Z",
          "shell.execute_reply": "2023-08-18T11:26:24.447367Z",
          "shell.execute_reply.started": "2023-08-18T11:26:22.441984Z"
        },
        "papermill": {
          "duration": null,
          "end_time": null,
          "exception": null,
          "start_time": null,
          "status": "pending"
        },
        "tags": [],
        "id": "1a272454"
      },
      "outputs": [],
      "source": [
        "\n",
        "# Sort the DataFrame by average user rating in descending order and select the top 10 apps\n",
        "top_rated_apps = df.sort_values(by='Average_User_Rating', ascending=False).head(10)\n",
        "\n",
        "# Create a bar plot\n",
        "plt.figure(figsize=(10, 6))\n",
        "plt.barh(top_rated_apps['App_Name'], top_rated_apps['Average_User_Rating'], color='purple')\n",
        "plt.xlabel('Average User Rating')\n",
        "plt.ylabel('App Name')\n",
        "plt.title('Top 10 Apps with Highest Average User Ratings')\n",
        "plt.xlim(0, 5)  # Set the x-axis limit to the rating scale (0 to 5)\n",
        "plt.gca().invert_yaxis()  # Invert y-axis to display the highest rating app on top\n",
        "plt.tight_layout()\n",
        "\n",
        "# Show the plot\n",
        "plt.show()"
      ]
    },
    {
      "cell_type": "markdown",
      "id": "36927484",
      "metadata": {
        "papermill": {
          "duration": null,
          "end_time": null,
          "exception": null,
          "start_time": null,
          "status": "pending"
        },
        "tags": [],
        "id": "36927484"
      },
      "source": [
        "# Top 10 apps Average_User_Rating', 'Price', 'Reviews counts?"
      ]
    },
    {
      "cell_type": "markdown",
      "id": "92f35e52",
      "metadata": {
        "papermill": {
          "duration": null,
          "end_time": null,
          "exception": null,
          "start_time": null,
          "status": "pending"
        },
        "tags": [],
        "id": "92f35e52"
      },
      "source": [
        "Top 10 Apps by Averge user  rating and there review and prices"
      ]
    },
    {
      "cell_type": "code",
      "execution_count": null,
      "id": "b3b784c9",
      "metadata": {
        "execution": {
          "iopub.execute_input": "2023-08-18T12:02:32.682242Z",
          "iopub.status.busy": "2023-08-18T12:02:32.681829Z",
          "iopub.status.idle": "2023-08-18T12:02:36.336822Z",
          "shell.execute_reply": "2023-08-18T12:02:36.335726Z",
          "shell.execute_reply.started": "2023-08-18T12:02:32.682212Z"
        },
        "papermill": {
          "duration": null,
          "end_time": null,
          "exception": null,
          "start_time": null,
          "status": "pending"
        },
        "tags": [],
        "id": "b3b784c9"
      },
      "outputs": [],
      "source": [
        "\n",
        "# Sort the DataFrame by average user rating in descending order and select the top 10 apps\n",
        "top_rated_apps = df.sort_values(by='Average_User_Rating', ascending=False).head(10)\n",
        "\n",
        "# Select columns for output\n",
        "columns_to_select = ['App_Name', 'Average_User_Rating', 'Price', 'Reviews']\n",
        "\n",
        "# Display the top-rated apps with selected columns\n",
        "top_rated_apps_selected = top_rated_apps[columns_to_select]\n",
        "print(top_rated_apps_selected)\n",
        "\n",
        "#graph code\n",
        "\n",
        "# Select columns for the plot\n",
        "columns_to_select = ['App_Name', 'Average_User_Rating', 'Price', 'Reviews']\n",
        "\n",
        "# Create a bar plot\n",
        "plt.figure(figsize=(10, 6))\n",
        "plt.barh(top_rated_apps['App_Name'], top_rated_apps['Average_User_Rating'], color='purple', label='Average Rating')\n",
        "plt.barh(top_rated_apps['App_Name'], top_rated_apps['Price'], color='orange', label='Price')\n",
        "plt.barh(top_rated_apps['App_Name'], top_rated_apps['Reviews'], color='blue', label='Reviews')\n",
        "plt.xlabel('Metrics')\n",
        "plt.ylabel('App Name')\n",
        "plt.title('Top-rated Apps with Metrics')\n",
        "plt.legend()\n",
        "plt.gca().invert_yaxis()\n",
        "plt.tight_layout()\n",
        "\n",
        "# Show the plot\n",
        "plt.show()"
      ]
    },
    {
      "cell_type": "markdown",
      "id": "2560fe00",
      "metadata": {
        "papermill": {
          "duration": null,
          "end_time": null,
          "exception": null,
          "start_time": null,
          "status": "pending"
        },
        "tags": [],
        "id": "2560fe00"
      },
      "source": [
        "# Top App by Primary_Genre?"
      ]
    },
    {
      "cell_type": "code",
      "execution_count": null,
      "id": "24507e0c",
      "metadata": {
        "execution": {
          "iopub.execute_input": "2023-08-18T12:04:28.415442Z",
          "iopub.status.busy": "2023-08-18T12:04:28.414941Z",
          "iopub.status.idle": "2023-08-18T12:04:29.720300Z",
          "shell.execute_reply": "2023-08-18T12:04:29.719131Z",
          "shell.execute_reply.started": "2023-08-18T12:04:28.415404Z"
        },
        "papermill": {
          "duration": null,
          "end_time": null,
          "exception": null,
          "start_time": null,
          "status": "pending"
        },
        "tags": [],
        "id": "24507e0c"
      },
      "outputs": [],
      "source": [
        "# Bar Chart: Primary Genre Distribution\n",
        "\n",
        "plt.figure(figsize=(10, 6))\n",
        "sns.countplot(data=df, x='Primary_Genre', order=df['Primary_Genre'].value_counts().index)\n",
        "plt.xticks(rotation=90)\n",
        "plt.xlabel('Primary Genre')\n",
        "plt.ylabel('Number of Apps')\n",
        "plt.title('Primary Genre Distribution')\n",
        "plt.tight_layout()\n",
        "plt.show()\n"
      ]
    },
    {
      "cell_type": "markdown",
      "id": "fa7aafd7",
      "metadata": {
        "papermill": {
          "duration": null,
          "end_time": null,
          "exception": null,
          "start_time": null,
          "status": "pending"
        },
        "tags": [],
        "id": "fa7aafd7"
      },
      "source": [
        "# How size impact on Average User Rating?"
      ]
    },
    {
      "cell_type": "code",
      "execution_count": null,
      "id": "278c05bd",
      "metadata": {
        "execution": {
          "iopub.execute_input": "2023-08-18T12:05:23.299629Z",
          "iopub.status.busy": "2023-08-18T12:05:23.298967Z",
          "iopub.status.idle": "2023-08-18T12:05:26.615701Z",
          "shell.execute_reply": "2023-08-18T12:05:26.614065Z",
          "shell.execute_reply.started": "2023-08-18T12:05:23.299574Z"
        },
        "papermill": {
          "duration": null,
          "end_time": null,
          "exception": null,
          "start_time": null,
          "status": "pending"
        },
        "tags": [],
        "id": "278c05bd"
      },
      "outputs": [],
      "source": [
        "# Scatter Plot: Size vs. Average User Rating\n",
        "\n",
        "plt.figure(figsize=(10, 6))\n",
        "sns.scatterplot(data=df, x='size_mb', y='Average_User_Rating', alpha=0.7)\n",
        "plt.xlabel('Size (Mb)')\n",
        "plt.ylabel('Average User Rating')\n",
        "plt.title('Size vs. Average User Rating')\n",
        "plt.tight_layout()\n",
        "plt.show()\n"
      ]
    },
    {
      "cell_type": "code",
      "execution_count": null,
      "id": "fd67a873",
      "metadata": {
        "papermill": {
          "duration": null,
          "end_time": null,
          "exception": null,
          "start_time": null,
          "status": "pending"
        },
        "tags": [],
        "id": "fd67a873"
      },
      "outputs": [],
      "source": [
        "# plt.figure(figsize=(10, 6))\n",
        "# # sns.barplot(data=df, x='Average_User_Rating', y='size_mb', palette='Blues', n_boot=100)  # Adjust n_boot as needed\n",
        "# # plt.xlabel('Average User Rating')\n",
        "# # plt.ylabel('Size (MB)')\n",
        "# # plt.title('Bar Plot of Average User Rating vs Size')\n",
        "# # plt.show()"
      ]
    },
    {
      "cell_type": "markdown",
      "id": "35dba477",
      "metadata": {
        "papermill": {
          "duration": null,
          "end_time": null,
          "exception": null,
          "start_time": null,
          "status": "pending"
        },
        "tags": [],
        "id": "35dba477"
      },
      "source": [
        "# Maximum user rating on which points?\n",
        "# *   Average User Rating lie on two number 0 and 5"
      ]
    },
    {
      "cell_type": "code",
      "execution_count": null,
      "id": "4f3e3f12",
      "metadata": {
        "execution": {
          "iopub.execute_input": "2023-08-18T12:18:55.237084Z",
          "iopub.status.busy": "2023-08-18T12:18:55.236573Z",
          "iopub.status.idle": "2023-08-18T12:18:58.183109Z",
          "shell.execute_reply": "2023-08-18T12:18:58.181424Z",
          "shell.execute_reply.started": "2023-08-18T12:18:55.237042Z"
        },
        "papermill": {
          "duration": null,
          "end_time": null,
          "exception": null,
          "start_time": null,
          "status": "pending"
        },
        "tags": [],
        "id": "4f3e3f12"
      },
      "outputs": [],
      "source": [
        "\n",
        "plt.figure(figsize=(8, 6))\n",
        "sns.violinplot(data=df, y='Average_User_Rating', palette='coolwarm')\n",
        "plt.ylabel('Average User Rating')\n",
        "plt.title('Violin Plot of Average User Rating')\n",
        "plt.tight_layout()\n",
        "plt.show()"
      ]
    },
    {
      "cell_type": "code",
      "execution_count": null,
      "id": "32d84881",
      "metadata": {
        "execution": {
          "iopub.execute_input": "2023-08-18T12:22:17.287955Z",
          "iopub.status.busy": "2023-08-18T12:22:17.287404Z",
          "iopub.status.idle": "2023-08-18T12:24:41.043536Z",
          "shell.execute_reply": "2023-08-18T12:24:41.042158Z",
          "shell.execute_reply.started": "2023-08-18T12:22:17.287907Z"
        },
        "papermill": {
          "duration": null,
          "end_time": null,
          "exception": null,
          "start_time": null,
          "status": "pending"
        },
        "tags": [],
        "id": "32d84881"
      },
      "outputs": [],
      "source": [
        "# Select columns of interest\n",
        "columns_of_interest = ['Size_Bytes', 'Average_User_Rating', 'Price', 'Content_Rating']\n",
        "\n",
        "# Create a pair plot\n",
        "sns.pairplot(df[columns_of_interest])\n",
        "plt.tight_layout()\n",
        "plt.show()"
      ]
    },
    {
      "cell_type": "markdown",
      "id": "a3321e6c",
      "metadata": {
        "papermill": {
          "duration": null,
          "end_time": null,
          "exception": null,
          "start_time": null,
          "status": "pending"
        },
        "tags": [],
        "id": "a3321e6c"
      },
      "source": [
        "# What kind of APPs are on it Free vs Paid?\n",
        "* Most of the Apps are Free"
      ]
    },
    {
      "cell_type": "code",
      "execution_count": null,
      "id": "f2b9c805",
      "metadata": {
        "execution": {
          "iopub.execute_input": "2023-08-18T12:26:08.312649Z",
          "iopub.status.busy": "2023-08-18T12:26:08.312103Z",
          "iopub.status.idle": "2023-08-18T12:26:08.668662Z",
          "shell.execute_reply": "2023-08-18T12:26:08.667082Z",
          "shell.execute_reply.started": "2023-08-18T12:26:08.312605Z"
        },
        "papermill": {
          "duration": null,
          "end_time": null,
          "exception": null,
          "start_time": null,
          "status": "pending"
        },
        "tags": [],
        "id": "f2b9c805"
      },
      "outputs": [],
      "source": [
        "#  Free vs. Paid apps\n",
        "plt.figure(figsize=(6, 4))\n",
        "sns.countplot(data=df, x='Free', palette=['lightblue', 'lightgreen'])\n",
        "plt.xticks(ticks=[0, 1], labels=['Paid', 'Free'])\n",
        "plt.xlabel('App Type')\n",
        "plt.ylabel('Number of Apps')\n",
        "plt.title('Number of Free vs. Paid Apps')\n",
        "plt.tight_layout()\n",
        "plt.show()"
      ]
    },
    {
      "cell_type": "markdown",
      "id": "713889cd",
      "metadata": {
        "papermill": {
          "duration": null,
          "end_time": null,
          "exception": null,
          "start_time": null,
          "status": "pending"
        },
        "tags": [],
        "id": "713889cd"
      },
      "source": [
        "Percentage ration of Free vs Paid Apps"
      ]
    },
    {
      "cell_type": "code",
      "execution_count": null,
      "id": "f2e92dbf",
      "metadata": {
        "execution": {
          "iopub.execute_input": "2023-08-18T12:28:17.852042Z",
          "iopub.status.busy": "2023-08-18T12:28:17.850298Z",
          "iopub.status.idle": "2023-08-18T12:28:18.700127Z",
          "shell.execute_reply": "2023-08-18T12:28:18.685526Z",
          "shell.execute_reply.started": "2023-08-18T12:28:17.851977Z"
        },
        "papermill": {
          "duration": null,
          "end_time": null,
          "exception": null,
          "start_time": null,
          "status": "pending"
        },
        "tags": [],
        "id": "f2e92dbf"
      },
      "outputs": [],
      "source": [
        "free_apps = df[df['Free'] == True].shape[0]\n",
        "paid_apps = df[df['Free'] == False].shape[0]\n",
        "labels = ['Free', 'Paid']\n",
        "sizes = [free_apps, paid_apps]\n",
        "\n",
        "plt.figure(figsize=(6, 6))\n",
        "plt.pie(sizes, labels=labels, autopct='%1.1f%%', startangle=140, colors=['lightblue', 'lightgreen'])\n",
        "plt.title('Free vs. Paid Apps Percentage')\n",
        "plt.axis('equal')\n",
        "plt.tight_layout()\n",
        "plt.show()\n"
      ]
    },
    {
      "cell_type": "markdown",
      "id": "645e0309",
      "metadata": {
        "papermill": {
          "duration": null,
          "end_time": null,
          "exception": null,
          "start_time": null,
          "status": "pending"
        },
        "tags": [],
        "id": "645e0309"
      },
      "source": [
        " # Paid vs Free Apps On Basis of Primary_Genre?"
      ]
    },
    {
      "cell_type": "code",
      "execution_count": null,
      "id": "cc24f9df",
      "metadata": {
        "execution": {
          "iopub.execute_input": "2023-08-18T12:26:49.342147Z",
          "iopub.status.busy": "2023-08-18T12:26:49.340425Z",
          "iopub.status.idle": "2023-08-18T12:26:50.634149Z",
          "shell.execute_reply": "2023-08-18T12:26:50.632897Z",
          "shell.execute_reply.started": "2023-08-18T12:26:49.342033Z"
        },
        "papermill": {
          "duration": null,
          "end_time": null,
          "exception": null,
          "start_time": null,
          "status": "pending"
        },
        "tags": [],
        "id": "cc24f9df"
      },
      "outputs": [],
      "source": [
        "# Filter out rows with null values in the 'Price' column\n",
        "df_cleaned = df.dropna(subset=['Price'])\n",
        "\n",
        "# Create a cross-tabulation of categories and app types (Free/Paid)\n",
        "category_app_type = pd.crosstab(df_cleaned['Primary_Genre'], df_cleaned['Free'])\n",
        "\n",
        "# Plot a stacked bar plot to show the distribution of Free vs. Paid apps in each category\n",
        "plt.figure(figsize=(12, 8))\n",
        "category_app_type.plot(kind='bar', stacked=True, color=['green', 'lightblue'])\n",
        "plt.xlabel('App Category')\n",
        "plt.ylabel('Number of Apps')\n",
        "plt.title('Distribution of Free vs. Paid Apps by Category')\n",
        "plt.legend(['Paid', 'Free'])\n",
        "plt.tight_layout()\n",
        "plt.xticks(rotation=45, ha='right')\n",
        "plt.show()"
      ]
    },
    {
      "cell_type": "markdown",
      "id": "ca4cb88b",
      "metadata": {
        "papermill": {
          "duration": null,
          "end_time": null,
          "exception": null,
          "start_time": null,
          "status": "pending"
        },
        "tags": [],
        "id": "ca4cb88b"
      },
      "source": [
        "# What is relation between Price and Size(size_mb)?\n",
        "* This show mosly free apps are high in size"
      ]
    },
    {
      "cell_type": "code",
      "execution_count": null,
      "id": "51f47b65",
      "metadata": {
        "execution": {
          "iopub.execute_input": "2023-08-18T12:30:15.657037Z",
          "iopub.status.busy": "2023-08-18T12:30:15.656455Z",
          "iopub.status.idle": "2023-08-18T12:31:16.157937Z",
          "shell.execute_reply": "2023-08-18T12:31:16.155698Z",
          "shell.execute_reply.started": "2023-08-18T12:30:15.656995Z"
        },
        "papermill": {
          "duration": null,
          "end_time": null,
          "exception": null,
          "start_time": null,
          "status": "pending"
        },
        "tags": [],
        "id": "51f47b65"
      },
      "outputs": [],
      "source": [
        "sns.scatterplot(x=\"Price\",y=\"size_mb\",data=df,hue=\"Free\")"
      ]
    },
    {
      "cell_type": "markdown",
      "id": "5881ad35",
      "metadata": {
        "papermill": {
          "duration": null,
          "end_time": null,
          "exception": null,
          "start_time": null,
          "status": "pending"
        },
        "tags": [],
        "id": "5881ad35"
      },
      "source": [
        "# what is content_Rating on basis of age group?"
      ]
    },
    {
      "cell_type": "code",
      "execution_count": null,
      "id": "1343a09d",
      "metadata": {
        "execution": {
          "iopub.execute_input": "2023-08-18T12:29:30.143651Z",
          "iopub.status.busy": "2023-08-18T12:29:30.142907Z",
          "iopub.status.idle": "2023-08-18T12:29:35.907486Z",
          "shell.execute_reply": "2023-08-18T12:29:35.905926Z",
          "shell.execute_reply.started": "2023-08-18T12:29:30.143592Z"
        },
        "papermill": {
          "duration": null,
          "end_time": null,
          "exception": null,
          "start_time": null,
          "status": "pending"
        },
        "tags": [],
        "id": "1343a09d"
      },
      "outputs": [],
      "source": [
        "\n",
        "sns.scatterplot(df[df[\"Free\"]==False],x=\"Price\",y=\"size_mb\",hue=\"Content_Rating\")"
      ]
    },
    {
      "cell_type": "markdown",
      "id": "52072417",
      "metadata": {
        "papermill": {
          "duration": null,
          "end_time": null,
          "exception": null,
          "start_time": null,
          "status": "pending"
        },
        "tags": [],
        "id": "52072417"
      },
      "source": [
        "# What is positive and negitive Corelation?\n",
        "# Positive Relation is between\n",
        "| Correlation         | Columns                  | Value      |\n",
        "|-------------------- |--------------------------|------------|\n",
        "| Positive Correlation| Size_Bytes <-> Price     |  0.076298  |\n",
        "|                    | Average_User_Rating <-> Size_Bytes |  0.048872  |\n",
        "|                    | Average_User_Rating <-> Reviews  |  0.030626  |\n",
        "|                    | Reviews <-> Size_Bytes    |  0.012592  |\n",
        "\n",
        "-----\n",
        "## Negative correlation\n",
        "\n",
        "| Correlation         | Columns                  | Value      |\n",
        "|-------------------- |--------------------------|------------|\n",
        "| Negative Correlation| Average_User_Rating <-> Size_Bytes | -0.048872  |\n",
        "|                    | Average_User_Rating <-> Reviews  | -0.030626  |\n",
        "|                    | Reviews <-> Size_Bytes    | -0.012592  |\n"
      ]
    },
    {
      "cell_type": "code",
      "execution_count": null,
      "id": "f4f92656",
      "metadata": {
        "execution": {
          "iopub.execute_input": "2023-08-18T12:51:09.861031Z",
          "iopub.status.busy": "2023-08-18T12:51:09.860344Z",
          "iopub.status.idle": "2023-08-18T12:51:10.570965Z",
          "shell.execute_reply": "2023-08-18T12:51:10.568813Z",
          "shell.execute_reply.started": "2023-08-18T12:51:09.860973Z"
        },
        "papermill": {
          "duration": null,
          "end_time": null,
          "exception": null,
          "start_time": null,
          "status": "pending"
        },
        "tags": [],
        "id": "f4f92656"
      },
      "outputs": [],
      "source": [
        "# Correlation Heatmap: Relationships between Numerical Columns\n",
        "correlation_matrix = df[['Average_User_Rating', 'Reviews', 'Size_Bytes', 'Price']].corr()\n",
        "\n",
        "plt.figure(figsize=(8, 6))\n",
        "sns.heatmap(correlation_matrix, annot=True, cmap='coolwarm', center=0)\n",
        "plt.title('Correlation Heatmap')\n",
        "plt.tight_layout()\n",
        "plt.show()\n"
      ]
    },
    {
      "cell_type": "markdown",
      "id": "6714fc96",
      "metadata": {
        "papermill": {
          "duration": null,
          "end_time": null,
          "exception": null,
          "start_time": null,
          "status": "pending"
        },
        "tags": [],
        "id": "6714fc96"
      },
      "source": [
        "# Developers and number of Apps register under there name ?"
      ]
    },
    {
      "cell_type": "code",
      "execution_count": null,
      "id": "0c758827",
      "metadata": {
        "execution": {
          "iopub.execute_input": "2023-08-18T12:53:08.486324Z",
          "iopub.status.busy": "2023-08-18T12:53:08.485770Z",
          "iopub.status.idle": "2023-08-18T12:53:43.615336Z",
          "shell.execute_reply": "2023-08-18T12:53:43.612846Z",
          "shell.execute_reply.started": "2023-08-18T12:53:08.486283Z"
        },
        "papermill": {
          "duration": null,
          "end_time": null,
          "exception": null,
          "start_time": null,
          "status": "pending"
        },
        "tags": [],
        "id": "0c758827"
      },
      "outputs": [],
      "source": [
        "# Word Cloud: Most Common Developer Names\n",
        "from wordcloud import WordCloud\n",
        "\n",
        "developer_names = ' '.join(df['Developer'])\n",
        "wordcloud = WordCloud(width=800, height=400, background_color='white').generate(developer_names)\n",
        "\n",
        "plt.figure(figsize=(10, 6))\n",
        "plt.imshow(wordcloud, interpolation='bilinear')\n",
        "plt.axis('off')\n",
        "plt.title('Most Common Developer Names')\n",
        "plt.tight_layout()\n",
        "plt.show()\n"
      ]
    },
    {
      "cell_type": "code",
      "execution_count": null,
      "id": "a2ad9faa",
      "metadata": {
        "execution": {
          "iopub.execute_input": "2023-08-18T13:01:38.096752Z",
          "iopub.status.busy": "2023-08-18T13:01:38.096042Z",
          "iopub.status.idle": "2023-08-18T13:01:39.745442Z",
          "shell.execute_reply": "2023-08-18T13:01:39.744005Z",
          "shell.execute_reply.started": "2023-08-18T13:01:38.096661Z"
        },
        "papermill": {
          "duration": null,
          "end_time": null,
          "exception": null,
          "start_time": null,
          "status": "pending"
        },
        "tags": [],
        "id": "a2ad9faa"
      },
      "outputs": [],
      "source": [
        "max_apps_developers = df['Developer'].value_counts().head(10)\n",
        "print(max_apps_developers)\n",
        "\n",
        "\n",
        "#visual\n",
        "plt.figure(figsize=(10, 6))\n",
        "sns.barplot(x=max_apps_developers.index, y=max_apps_developers.values, palette='viridis')\n",
        "plt.xticks(rotation=90)\n",
        "plt.xlabel('Developers')\n",
        "plt.ylabel('Number of Apps')\n",
        "plt.title('Top Developers with Maximum Number of Apps')\n",
        "plt.tight_layout()\n",
        "plt.show()"
      ]
    },
    {
      "cell_type": "markdown",
      "id": "dedab255",
      "metadata": {
        "papermill": {
          "duration": null,
          "end_time": null,
          "exception": null,
          "start_time": null,
          "status": "pending"
        },
        "tags": [],
        "id": "dedab255"
      },
      "source": [
        "# What are the top 10 most reviewed apps?"
      ]
    },
    {
      "cell_type": "code",
      "execution_count": null,
      "id": "6f6ea1b5",
      "metadata": {
        "execution": {
          "iopub.execute_input": "2023-08-18T13:10:36.006420Z",
          "iopub.status.busy": "2023-08-18T13:10:36.005769Z",
          "iopub.status.idle": "2023-08-18T13:10:36.531952Z",
          "shell.execute_reply": "2023-08-18T13:10:36.530404Z",
          "shell.execute_reply.started": "2023-08-18T13:10:36.006368Z"
        },
        "papermill": {
          "duration": null,
          "end_time": null,
          "exception": null,
          "start_time": null,
          "status": "pending"
        },
        "tags": [],
        "id": "6f6ea1b5"
      },
      "outputs": [],
      "source": [
        "top_reviewed_apps = df.nlargest(10, 'Reviews')\n",
        "top_reviewed_apps[['App_Name', 'Reviews']]"
      ]
    },
    {
      "cell_type": "code",
      "execution_count": null,
      "id": "d4dfc435",
      "metadata": {
        "execution": {
          "iopub.execute_input": "2023-08-18T13:10:41.628617Z",
          "iopub.status.busy": "2023-08-18T13:10:41.628082Z",
          "iopub.status.idle": "2023-08-18T13:10:42.066889Z",
          "shell.execute_reply": "2023-08-18T13:10:42.065435Z",
          "shell.execute_reply.started": "2023-08-18T13:10:41.628546Z"
        },
        "papermill": {
          "duration": null,
          "end_time": null,
          "exception": null,
          "start_time": null,
          "status": "pending"
        },
        "tags": [],
        "id": "d4dfc435"
      },
      "outputs": [],
      "source": [
        "plt.figure(figsize=(10, 6))\n",
        "sns.barplot(data=top_reviewed_apps, x='App_Name', y='Reviews', palette='Blues_d')\n",
        "plt.xticks(rotation=45, ha='right')\n",
        "plt.xlabel('App Name')\n",
        "plt.ylabel('Number of Reviews')\n",
        "plt.title('Top 10 Most Reviewed Apps')\n",
        "plt.tight_layout()\n",
        "plt.show()"
      ]
    },
    {
      "cell_type": "markdown",
      "id": "c6ed15e5",
      "metadata": {
        "papermill": {
          "duration": null,
          "end_time": null,
          "exception": null,
          "start_time": null,
          "status": "pending"
        },
        "tags": [],
        "id": "c6ed15e5"
      },
      "source": [
        "# Which app genres have the highest average user ratings?\n"
      ]
    },
    {
      "cell_type": "code",
      "execution_count": null,
      "id": "efdc53a7",
      "metadata": {
        "execution": {
          "iopub.execute_input": "2023-08-18T13:12:03.611312Z",
          "iopub.status.busy": "2023-08-18T13:12:03.610699Z",
          "iopub.status.idle": "2023-08-18T13:12:03.746155Z",
          "shell.execute_reply": "2023-08-18T13:12:03.744656Z",
          "shell.execute_reply.started": "2023-08-18T13:12:03.611268Z"
        },
        "papermill": {
          "duration": null,
          "end_time": null,
          "exception": null,
          "start_time": null,
          "status": "pending"
        },
        "tags": [],
        "id": "efdc53a7"
      },
      "outputs": [],
      "source": [
        "avg_ratings_by_genre = df.groupby('Primary_Genre')['Average_User_Rating'].mean().sort_values(ascending=False)\n",
        "avg_ratings_by_genre\n"
      ]
    },
    {
      "cell_type": "code",
      "execution_count": null,
      "id": "886e6157",
      "metadata": {
        "execution": {
          "iopub.execute_input": "2023-08-18T13:12:20.269244Z",
          "iopub.status.busy": "2023-08-18T13:12:20.268739Z",
          "iopub.status.idle": "2023-08-18T13:12:20.953385Z",
          "shell.execute_reply": "2023-08-18T13:12:20.952020Z",
          "shell.execute_reply.started": "2023-08-18T13:12:20.269201Z"
        },
        "papermill": {
          "duration": null,
          "end_time": null,
          "exception": null,
          "start_time": null,
          "status": "pending"
        },
        "tags": [],
        "id": "886e6157"
      },
      "outputs": [],
      "source": [
        "# Calculate average user ratings by genre\n",
        "avg_ratings_by_genre = df.groupby('Primary_Genre')['Average_User_Rating'].mean().sort_values(ascending=False)\n",
        "\n",
        "# Plot the bar graph\n",
        "plt.figure(figsize=(10, 6))\n",
        "avg_ratings_by_genre.plot(kind='bar', color='blue')\n",
        "plt.xlabel('App Genre')\n",
        "plt.ylabel('Average User Rating')\n",
        "plt.title('Average User Ratings by App Genre')\n",
        "plt.xticks(rotation=45, ha='right')\n",
        "plt.tight_layout()\n",
        "plt.show()\n"
      ]
    },
    {
      "cell_type": "markdown",
      "id": "f0f035e2",
      "metadata": {
        "papermill": {
          "duration": null,
          "end_time": null,
          "exception": null,
          "start_time": null,
          "status": "pending"
        },
        "tags": [],
        "id": "f0f035e2"
      },
      "source": [
        "# What is the distribution of app sizes?"
      ]
    },
    {
      "cell_type": "code",
      "execution_count": null,
      "id": "3af88fff",
      "metadata": {
        "execution": {
          "iopub.execute_input": "2023-08-18T13:13:11.736721Z",
          "iopub.status.busy": "2023-08-18T13:13:11.736160Z",
          "iopub.status.idle": "2023-08-18T13:13:12.125280Z",
          "shell.execute_reply": "2023-08-18T13:13:12.123641Z",
          "shell.execute_reply.started": "2023-08-18T13:13:11.736660Z"
        },
        "papermill": {
          "duration": null,
          "end_time": null,
          "exception": null,
          "start_time": null,
          "status": "pending"
        },
        "tags": [],
        "id": "3af88fff"
      },
      "outputs": [],
      "source": [
        "\n",
        "# Plot the histogram\n",
        "plt.figure(figsize=(10, 6))\n",
        "hist_values, bins, _ = plt.hist(df['size_mb'], bins=20, color='skyblue', edgecolor='black')\n",
        "plt.xlabel('App Size (MB)')\n",
        "plt.ylabel('Frequency')\n",
        "plt.title('Distribution of App Sizes')\n",
        "plt.show()\n",
        "\n",
        "# Display the number of apps in each bin\n",
        "for i in range(len(hist_values)):\n",
        "    print(f'Bin {i+1}: {int(hist_values[i])} apps')"
      ]
    },
    {
      "cell_type": "markdown",
      "id": "dd7787d0",
      "metadata": {
        "papermill": {
          "duration": null,
          "end_time": null,
          "exception": null,
          "start_time": null,
          "status": "pending"
        },
        "tags": [],
        "id": "dd7787d0"
      },
      "source": [
        "#  How many free and paid apps are in the dataset?\n"
      ]
    },
    {
      "cell_type": "code",
      "execution_count": null,
      "id": "1334b2ab",
      "metadata": {
        "execution": {
          "iopub.execute_input": "2023-08-18T13:13:49.652278Z",
          "iopub.status.busy": "2023-08-18T13:13:49.651855Z",
          "iopub.status.idle": "2023-08-18T13:13:49.675804Z",
          "shell.execute_reply": "2023-08-18T13:13:49.673782Z",
          "shell.execute_reply.started": "2023-08-18T13:13:49.652247Z"
        },
        "papermill": {
          "duration": null,
          "end_time": null,
          "exception": null,
          "start_time": null,
          "status": "pending"
        },
        "tags": [],
        "id": "1334b2ab"
      },
      "outputs": [],
      "source": [
        "\n",
        "app_counts = df['Free'].value_counts()\n",
        "app_counts\n"
      ]
    },
    {
      "cell_type": "code",
      "execution_count": null,
      "id": "a6d79c0e",
      "metadata": {
        "execution": {
          "iopub.execute_input": "2023-08-18T14:09:55.820396Z",
          "iopub.status.busy": "2023-08-18T14:09:55.819902Z",
          "iopub.status.idle": "2023-08-18T14:09:56.118511Z",
          "shell.execute_reply": "2023-08-18T14:09:56.117370Z",
          "shell.execute_reply.started": "2023-08-18T14:09:55.820354Z"
        },
        "papermill": {
          "duration": null,
          "end_time": null,
          "exception": null,
          "start_time": null,
          "status": "pending"
        },
        "tags": [],
        "id": "a6d79c0e"
      },
      "outputs": [],
      "source": [
        "app_counts = df['Free'].value_counts()\n",
        "\n",
        "plt.figure(figsize=(8, 6))\n",
        "sns.barplot(x=app_counts.index, y=app_counts.values, palette='pastel')\n",
        "plt.xlabel('App Type')\n",
        "plt.ylabel('Count')\n",
        "plt.title('Number of Free Apps vs. Paid Apps')\n",
        "\n",
        "# Adding annotations to the bars\n",
        "for index, value in enumerate(app_counts.values):\n",
        "    plt.text(index, value + 50, str(value), ha='center', va='bottom', fontsize=10)\n",
        "\n",
        "plt.show()"
      ]
    },
    {
      "cell_type": "code",
      "execution_count": null,
      "id": "a9403f92",
      "metadata": {
        "execution": {
          "iopub.execute_input": "2023-08-18T14:10:06.895945Z",
          "iopub.status.busy": "2023-08-18T14:10:06.895404Z",
          "iopub.status.idle": "2023-08-18T14:10:07.089563Z",
          "shell.execute_reply": "2023-08-18T14:10:07.088052Z",
          "shell.execute_reply.started": "2023-08-18T14:10:06.895902Z"
        },
        "papermill": {
          "duration": null,
          "end_time": null,
          "exception": null,
          "start_time": null,
          "status": "pending"
        },
        "tags": [],
        "id": "a9403f92"
      },
      "outputs": [],
      "source": [
        "app_counts = df['Free'].value_counts()\n",
        "\n",
        "plt.figure(figsize=(6, 6))\n",
        "plt.pie(app_counts, labels=app_counts.index, autopct='%1.1f%%', colors=['skyblue', 'lightcoral'],\n",
        "        wedgeprops=dict(width=0.4, edgecolor='w'))  # Creating a donut chart by adjusting the wedge width\n",
        "plt.title('Distribution of Free and Non-Free Apps')\n",
        "plt.axis('equal')  # Equal aspect ratio ensures that the chart is circular.\n",
        "plt.show()\n"
      ]
    },
    {
      "cell_type": "markdown",
      "id": "510f1303",
      "metadata": {
        "papermill": {
          "duration": null,
          "end_time": null,
          "exception": null,
          "start_time": null,
          "status": "pending"
        },
        "tags": [],
        "id": "510f1303"
      },
      "source": [
        "**So (1121639) apps are free and  (101868) are paid **"
      ]
    },
    {
      "cell_type": "markdown",
      "id": "4f2f6f49",
      "metadata": {
        "papermill": {
          "duration": null,
          "end_time": null,
          "exception": null,
          "start_time": null,
          "status": "pending"
        },
        "tags": [],
        "id": "4f2f6f49"
      },
      "source": [
        "#  What is the average price of paid apps?"
      ]
    },
    {
      "cell_type": "code",
      "execution_count": null,
      "id": "a011229f",
      "metadata": {
        "execution": {
          "iopub.execute_input": "2023-08-18T13:15:33.573092Z",
          "iopub.status.busy": "2023-08-18T13:15:33.572135Z",
          "iopub.status.idle": "2023-08-18T13:15:33.707051Z",
          "shell.execute_reply": "2023-08-18T13:15:33.705776Z",
          "shell.execute_reply.started": "2023-08-18T13:15:33.573030Z"
        },
        "papermill": {
          "duration": null,
          "end_time": null,
          "exception": null,
          "start_time": null,
          "status": "pending"
        },
        "tags": [],
        "id": "a011229f"
      },
      "outputs": [],
      "source": [
        "average_price = df[df['Free'] == 0]['Price'].mean()\n",
        "average_price\n"
      ]
    },
    {
      "cell_type": "markdown",
      "id": "381994bd",
      "metadata": {
        "papermill": {
          "duration": null,
          "end_time": null,
          "exception": null,
          "start_time": null,
          "status": "pending"
        },
        "tags": [],
        "id": "381994bd"
      },
      "source": [
        "#  Which content rating has the highest average user rating?\n"
      ]
    },
    {
      "cell_type": "code",
      "execution_count": null,
      "id": "6dd77c7d",
      "metadata": {
        "execution": {
          "iopub.execute_input": "2023-08-18T13:15:47.698258Z",
          "iopub.status.busy": "2023-08-18T13:15:47.697771Z",
          "iopub.status.idle": "2023-08-18T13:15:47.804274Z",
          "shell.execute_reply": "2023-08-18T13:15:47.802399Z",
          "shell.execute_reply.started": "2023-08-18T13:15:47.698223Z"
        },
        "papermill": {
          "duration": null,
          "end_time": null,
          "exception": null,
          "start_time": null,
          "status": "pending"
        },
        "tags": [],
        "id": "6dd77c7d"
      },
      "outputs": [],
      "source": [
        "\n",
        "highest_rating_content = df.groupby('Content_Rating')['Average_User_Rating'].mean().idxmax()\n",
        "highest_rating_content\n"
      ]
    },
    {
      "cell_type": "markdown",
      "id": "f908e513",
      "metadata": {
        "papermill": {
          "duration": null,
          "end_time": null,
          "exception": null,
          "start_time": null,
          "status": "pending"
        },
        "tags": [],
        "id": "f908e513"
      },
      "source": [
        "#  How has the average app size changed over the years?\n"
      ]
    },
    {
      "cell_type": "code",
      "execution_count": null,
      "id": "bf2f4654",
      "metadata": {
        "execution": {
          "iopub.execute_input": "2023-08-18T13:17:34.425075Z",
          "iopub.status.busy": "2023-08-18T13:17:34.424498Z",
          "iopub.status.idle": "2023-08-18T13:17:56.015235Z",
          "shell.execute_reply": "2023-08-18T13:17:56.013983Z",
          "shell.execute_reply.started": "2023-08-18T13:17:34.425033Z"
        },
        "papermill": {
          "duration": null,
          "end_time": null,
          "exception": null,
          "start_time": null,
          "status": "pending"
        },
        "tags": [],
        "id": "bf2f4654"
      },
      "outputs": [],
      "source": [
        "\n",
        "import seaborn as sns\n",
        "plt.figure(figsize=(10, 6))\n",
        "sns.lineplot(data=df, x='Year', y='size_mb', estimator='mean')\n",
        "plt.xlabel('Year')\n",
        "plt.ylabel('Average App Size (MB)')\n",
        "plt.title('Average App Size Over the Years')\n",
        "plt.tight_layout()\n",
        "plt.show()\n"
      ]
    },
    {
      "cell_type": "markdown",
      "id": "e6bf1a5f",
      "metadata": {
        "papermill": {
          "duration": null,
          "end_time": null,
          "exception": null,
          "start_time": null,
          "status": "pending"
        },
        "tags": [],
        "id": "e6bf1a5f"
      },
      "source": [
        "# Which year Most Apps Release?\n",
        "# Apps  released on bases of year\n",
        "* 2020 is the year maximum app release\n",
        "* 2008 less number of Apps released"
      ]
    },
    {
      "cell_type": "code",
      "execution_count": null,
      "id": "a3513aad",
      "metadata": {
        "execution": {
          "iopub.status.busy": "2023-08-18T14:13:11.624605Z",
          "iopub.status.idle": "2023-08-18T14:13:11.625339Z",
          "shell.execute_reply": "2023-08-18T14:13:11.625067Z",
          "shell.execute_reply.started": "2023-08-18T14:13:11.625041Z"
        },
        "papermill": {
          "duration": null,
          "end_time": null,
          "exception": null,
          "start_time": null,
          "status": "pending"
        },
        "tags": [],
        "id": "a3513aad"
      },
      "outputs": [],
      "source": [
        "highest_release_year = df['Year'].value_counts().idxmax()\n",
        "highest_release_year"
      ]
    },
    {
      "cell_type": "code",
      "execution_count": null,
      "id": "4f71656f",
      "metadata": {
        "execution": {
          "iopub.execute_input": "2023-08-18T14:17:55.715090Z",
          "iopub.status.busy": "2023-08-18T14:17:55.714655Z",
          "iopub.status.idle": "2023-08-18T14:17:57.267415Z",
          "shell.execute_reply": "2023-08-18T14:17:57.266287Z",
          "shell.execute_reply.started": "2023-08-18T14:17:55.715051Z"
        },
        "papermill": {
          "duration": null,
          "end_time": null,
          "exception": null,
          "start_time": null,
          "status": "pending"
        },
        "tags": [],
        "id": "4f71656f"
      },
      "outputs": [],
      "source": [
        "# Time Series Plot: App Releases Over Time\n",
        "df['Released'] = pd.to_datetime(df['Released'])\n",
        "df['Year'] = df['Released'].dt.year\n",
        "\n",
        "plt.figure(figsize=(10, 6))\n",
        "sns.countplot(data=df, x='Year', palette='viridis')\n",
        "plt.xlabel('Year')\n",
        "plt.ylabel('Number of App Releases')\n",
        "plt.title('App Releases Over Time')\n",
        "plt.xticks(rotation=45)\n",
        "plt.tight_layout()\n",
        "plt.show()"
      ]
    },
    {
      "cell_type": "markdown",
      "id": "a18ac935",
      "metadata": {
        "papermill": {
          "duration": null,
          "end_time": null,
          "exception": null,
          "start_time": null,
          "status": "pending"
        },
        "tags": [],
        "id": "a18ac935"
      },
      "source": [
        "# Which developer has the most apps in the dataset?"
      ]
    },
    {
      "cell_type": "code",
      "execution_count": null,
      "id": "71c0fb7c",
      "metadata": {
        "execution": {
          "iopub.execute_input": "2023-08-18T13:18:32.352572Z",
          "iopub.status.busy": "2023-08-18T13:18:32.352083Z",
          "iopub.status.idle": "2023-08-18T13:18:33.277552Z",
          "shell.execute_reply": "2023-08-18T13:18:33.276333Z",
          "shell.execute_reply.started": "2023-08-18T13:18:32.352518Z"
        },
        "papermill": {
          "duration": null,
          "end_time": null,
          "exception": null,
          "start_time": null,
          "status": "pending"
        },
        "tags": [],
        "id": "71c0fb7c"
      },
      "outputs": [],
      "source": [
        "most_apps_developer = df['Developer'].value_counts().idxmax()\n",
        "most_apps_developer"
      ]
    },
    {
      "cell_type": "markdown",
      "id": "6e60e29b",
      "metadata": {
        "papermill": {
          "duration": null,
          "end_time": null,
          "exception": null,
          "start_time": null,
          "status": "pending"
        },
        "tags": [],
        "id": "6e60e29b"
      },
      "source": [
        "# How many apps are there in each primary genre?"
      ]
    },
    {
      "cell_type": "code",
      "execution_count": null,
      "id": "ee701239",
      "metadata": {
        "execution": {
          "iopub.execute_input": "2023-08-18T13:19:52.015359Z",
          "iopub.status.busy": "2023-08-18T13:19:52.014816Z",
          "iopub.status.idle": "2023-08-18T13:19:52.131270Z",
          "shell.execute_reply": "2023-08-18T13:19:52.130188Z",
          "shell.execute_reply.started": "2023-08-18T13:19:52.015317Z"
        },
        "papermill": {
          "duration": null,
          "end_time": null,
          "exception": null,
          "start_time": null,
          "status": "pending"
        },
        "tags": [],
        "id": "ee701239"
      },
      "outputs": [],
      "source": [
        "genre_counts = df['Primary_Genre'].value_counts()\n",
        "genre_counts\n"
      ]
    },
    {
      "cell_type": "markdown",
      "id": "72a84893",
      "metadata": {
        "papermill": {
          "duration": null,
          "end_time": null,
          "exception": null,
          "start_time": null,
          "status": "pending"
        },
        "tags": [],
        "id": "72a84893"
      },
      "source": [
        "#  What is the relationship between average user rating and app size?"
      ]
    },
    {
      "cell_type": "code",
      "execution_count": null,
      "id": "af134892",
      "metadata": {
        "execution": {
          "iopub.execute_input": "2023-08-18T13:20:19.684961Z",
          "iopub.status.busy": "2023-08-18T13:20:19.683150Z",
          "iopub.status.idle": "2023-08-18T13:20:22.425986Z",
          "shell.execute_reply": "2023-08-18T13:20:22.423490Z",
          "shell.execute_reply.started": "2023-08-18T13:20:19.684899Z"
        },
        "papermill": {
          "duration": null,
          "end_time": null,
          "exception": null,
          "start_time": null,
          "status": "pending"
        },
        "tags": [],
        "id": "af134892"
      },
      "outputs": [],
      "source": [
        "\n",
        "\n",
        "plt.figure(figsize=(10, 6))\n",
        "sns.scatterplot(data=df, x='Average_User_Rating', y='size_mb')\n",
        "plt.xlabel('Average User Rating')\n",
        "plt.ylabel('App Size (MB)')\n",
        "plt.title('Average User Rating vs. App Size')\n",
        "plt.tight_layout()\n",
        "plt.show()\n"
      ]
    },
    {
      "cell_type": "markdown",
      "id": "a0bf375e",
      "metadata": {
        "papermill": {
          "duration": null,
          "end_time": null,
          "exception": null,
          "start_time": null,
          "status": "pending"
        },
        "tags": [],
        "id": "a0bf375e"
      },
      "source": [
        "# Distribution of Average User Ratings Over the Years'"
      ]
    },
    {
      "cell_type": "code",
      "execution_count": null,
      "id": "e642b363",
      "metadata": {
        "execution": {
          "iopub.execute_input": "2023-08-18T13:20:38.380664Z",
          "iopub.status.busy": "2023-08-18T13:20:38.380172Z",
          "iopub.status.idle": "2023-08-18T13:20:39.237580Z",
          "shell.execute_reply": "2023-08-18T13:20:39.236179Z",
          "shell.execute_reply.started": "2023-08-18T13:20:38.380628Z"
        },
        "papermill": {
          "duration": null,
          "end_time": null,
          "exception": null,
          "start_time": null,
          "status": "pending"
        },
        "tags": [],
        "id": "e642b363"
      },
      "outputs": [],
      "source": [
        "plt.figure(figsize=(10, 6))\n",
        "sns.boxplot(data=df, x='Year', y='Average_User_Rating')\n",
        "plt.xlabel('Year')\n",
        "plt.ylabel('Average User Rating')\n",
        "plt.title('Distribution of Average User Ratings Over the Years')\n",
        "plt.tight_layout()\n",
        "plt.show()\n",
        "\n"
      ]
    },
    {
      "cell_type": "markdown",
      "id": "fdcac3ea",
      "metadata": {
        "papermill": {
          "duration": null,
          "end_time": null,
          "exception": null,
          "start_time": null,
          "status": "pending"
        },
        "tags": [],
        "id": "fdcac3ea"
      },
      "source": [
        "#  What is the average user rating for free vs. paid apps?"
      ]
    },
    {
      "cell_type": "code",
      "execution_count": null,
      "id": "b7e9504d",
      "metadata": {
        "execution": {
          "iopub.execute_input": "2023-08-18T13:22:15.231917Z",
          "iopub.status.busy": "2023-08-18T13:22:15.231362Z",
          "iopub.status.idle": "2023-08-18T13:22:15.270259Z",
          "shell.execute_reply": "2023-08-18T13:22:15.268624Z",
          "shell.execute_reply.started": "2023-08-18T13:22:15.231876Z"
        },
        "papermill": {
          "duration": null,
          "end_time": null,
          "exception": null,
          "start_time": null,
          "status": "pending"
        },
        "tags": [],
        "id": "b7e9504d"
      },
      "outputs": [],
      "source": [
        "avg_rating_by_type = df.groupby('Free')['Average_User_Rating'].mean()\n",
        "avg_rating_by_type\n"
      ]
    },
    {
      "cell_type": "markdown",
      "id": "fdef49ee",
      "metadata": {
        "papermill": {
          "duration": null,
          "end_time": null,
          "exception": null,
          "start_time": null,
          "status": "pending"
        },
        "tags": [],
        "id": "fdef49ee"
      },
      "source": [
        "#  What is the relationship between reviews and average user ratings?"
      ]
    },
    {
      "cell_type": "code",
      "execution_count": null,
      "id": "ead5068a",
      "metadata": {
        "execution": {
          "iopub.execute_input": "2023-08-18T13:22:17.872024Z",
          "iopub.status.busy": "2023-08-18T13:22:17.871369Z",
          "iopub.status.idle": "2023-08-18T13:22:20.520907Z",
          "shell.execute_reply": "2023-08-18T13:22:20.518497Z",
          "shell.execute_reply.started": "2023-08-18T13:22:17.871974Z"
        },
        "papermill": {
          "duration": null,
          "end_time": null,
          "exception": null,
          "start_time": null,
          "status": "pending"
        },
        "tags": [],
        "id": "ead5068a"
      },
      "outputs": [],
      "source": [
        "\n",
        "plt.figure(figsize=(10, 6))\n",
        "sns.scatterplot(data=df, x='Reviews', y='Average_User_Rating')\n",
        "plt.xlabel('Reviews')\n",
        "plt.ylabel('Average User Rating')\n",
        "plt.title('Reviews vs. Average User Rating')\n",
        "plt.tight_layout()\n",
        "plt.show()\n"
      ]
    },
    {
      "cell_type": "code",
      "execution_count": null,
      "id": "c90a3055",
      "metadata": {
        "papermill": {
          "duration": null,
          "end_time": null,
          "exception": null,
          "start_time": null,
          "status": "pending"
        },
        "tags": [],
        "id": "c90a3055"
      },
      "outputs": [],
      "source": [
        "# import seaborn as sns\n",
        "# sns.pairplot(df, vars=['Reviews', 'Average_User_Rating'])\n",
        "# plt.suptitle('Pair Plot: Reviews vs. Average User Rating', y=1.02)\n",
        "# plt.show()"
      ]
    },
    {
      "cell_type": "markdown",
      "id": "41bac715",
      "metadata": {
        "papermill": {
          "duration": null,
          "end_time": null,
          "exception": null,
          "start_time": null,
          "status": "pending"
        },
        "tags": [],
        "id": "41bac715"
      },
      "source": [
        "# Visualize the comparison of app sizes between free and paid apps using box plots?[]"
      ]
    },
    {
      "cell_type": "code",
      "execution_count": null,
      "id": "d34b4385",
      "metadata": {
        "execution": {
          "iopub.execute_input": "2023-08-18T14:38:25.058400Z",
          "iopub.status.busy": "2023-08-18T14:38:25.058042Z",
          "iopub.status.idle": "2023-08-18T14:38:25.304971Z",
          "shell.execute_reply": "2023-08-18T14:38:25.303525Z",
          "shell.execute_reply.started": "2023-08-18T14:38:25.058371Z"
        },
        "papermill": {
          "duration": null,
          "end_time": null,
          "exception": null,
          "start_time": null,
          "status": "pending"
        },
        "tags": [],
        "id": "d34b4385"
      },
      "outputs": [],
      "source": [
        "app_counts = df['Free'].value_counts()\n",
        "\n",
        "# Create a bar plot to visualize the count of free and paid apps\n",
        "plt.figure(figsize=(8, 6))\n",
        "sns.barplot(x=app_counts.index, y=app_counts.values, palette='pastel')\n",
        "plt.xlabel('App Type')\n",
        "plt.ylabel('Count')\n",
        "plt.title('Count of Free and Paid Apps')\n",
        "plt.show()"
      ]
    },
    {
      "cell_type": "markdown",
      "id": "4b21c426",
      "metadata": {
        "papermill": {
          "duration": null,
          "end_time": null,
          "exception": null,
          "start_time": null,
          "status": "pending"
        },
        "tags": [],
        "id": "4b21c426"
      },
      "source": [
        "#  What is the most common primary genre among free apps?"
      ]
    },
    {
      "cell_type": "code",
      "execution_count": null,
      "id": "bc4bfea8",
      "metadata": {
        "execution": {
          "iopub.execute_input": "2023-08-18T13:22:48.913721Z",
          "iopub.status.busy": "2023-08-18T13:22:48.912700Z",
          "iopub.status.idle": "2023-08-18T13:22:49.491863Z",
          "shell.execute_reply": "2023-08-18T13:22:49.490330Z",
          "shell.execute_reply.started": "2023-08-18T13:22:48.913666Z"
        },
        "papermill": {
          "duration": null,
          "end_time": null,
          "exception": null,
          "start_time": null,
          "status": "pending"
        },
        "tags": [],
        "id": "bc4bfea8"
      },
      "outputs": [],
      "source": [
        "most_common_genre_free = df[df['Free'] == 1]['Primary_Genre'].value_counts().idxmax()\n",
        "most_common_genre_free\n"
      ]
    },
    {
      "cell_type": "markdown",
      "id": "d11d8f1e",
      "metadata": {
        "papermill": {
          "duration": null,
          "end_time": null,
          "exception": null,
          "start_time": null,
          "status": "pending"
        },
        "tags": [],
        "id": "d11d8f1e"
      },
      "source": [
        "# Top rated Free Apps ?"
      ]
    },
    {
      "cell_type": "code",
      "execution_count": null,
      "id": "93a53b3f",
      "metadata": {
        "execution": {
          "iopub.execute_input": "2023-08-18T13:22:59.397626Z",
          "iopub.status.busy": "2023-08-18T13:22:59.396958Z",
          "iopub.status.idle": "2023-08-18T13:23:01.241140Z",
          "shell.execute_reply": "2023-08-18T13:23:01.239171Z",
          "shell.execute_reply.started": "2023-08-18T13:22:59.397567Z"
        },
        "papermill": {
          "duration": null,
          "end_time": null,
          "exception": null,
          "start_time": null,
          "status": "pending"
        },
        "tags": [],
        "id": "93a53b3f"
      },
      "outputs": [],
      "source": [
        "\n",
        "# Sort the free apps by rating in descending order and select the top 5\n",
        "top5_free_apps = df[df['Free'] == 1].sort_values('Average_User_Rating', ascending=False).head(5)\n",
        "\n",
        "# Display the top 5 free apps\n",
        "print(top5_free_apps[['App_Name', 'Average_User_Rating']])"
      ]
    },
    {
      "cell_type": "code",
      "execution_count": null,
      "id": "ec4a4130",
      "metadata": {
        "execution": {
          "iopub.execute_input": "2023-08-18T13:23:09.654467Z",
          "iopub.status.busy": "2023-08-18T13:23:09.653912Z",
          "iopub.status.idle": "2023-08-18T13:23:10.038444Z",
          "shell.execute_reply": "2023-08-18T13:23:10.036965Z",
          "shell.execute_reply.started": "2023-08-18T13:23:09.654427Z"
        },
        "papermill": {
          "duration": null,
          "end_time": null,
          "exception": null,
          "start_time": null,
          "status": "pending"
        },
        "tags": [],
        "id": "ec4a4130"
      },
      "outputs": [],
      "source": [
        "# Plot the bar graph\n",
        "plt.figure(figsize=(10, 6))\n",
        "plt.bar(top5_free_apps['App_Name'], top5_free_apps['Average_User_Rating'], color='green')\n",
        "plt.xlabel('App Name')\n",
        "plt.ylabel('Average User Rating')\n",
        "plt.title('Top 5 Free Apps with Highest Ratings')\n",
        "plt.xticks(rotation=45, ha='right')\n",
        "plt.tight_layout()\n",
        "plt.show()"
      ]
    },
    {
      "cell_type": "markdown",
      "id": "ef5da727",
      "metadata": {
        "papermill": {
          "duration": null,
          "end_time": null,
          "exception": null,
          "start_time": null,
          "status": "pending"
        },
        "tags": [],
        "id": "ef5da727"
      },
      "source": [
        "#  What is the distribution of prices for paid apps?"
      ]
    },
    {
      "cell_type": "code",
      "execution_count": null,
      "id": "948e63ca",
      "metadata": {
        "execution": {
          "iopub.execute_input": "2023-08-18T14:27:07.357218Z",
          "iopub.status.busy": "2023-08-18T14:27:07.356827Z",
          "iopub.status.idle": "2023-08-18T14:27:07.949783Z",
          "shell.execute_reply": "2023-08-18T14:27:07.948554Z",
          "shell.execute_reply.started": "2023-08-18T14:27:07.357183Z"
        },
        "papermill": {
          "duration": null,
          "end_time": null,
          "exception": null,
          "start_time": null,
          "status": "pending"
        },
        "tags": [],
        "id": "948e63ca"
      },
      "outputs": [],
      "source": [
        "\n",
        "plt.figure(figsize=(10, 6))\n",
        "plt.hist(df[df['Free'] == 0]['Price'], bins=20, color='lightblue')\n",
        "plt.xlabel('Price')\n",
        "plt.ylabel('Frequency')\n",
        "plt.title('Distribution of Prices for Paid Apps')\n",
        "plt.show()\n"
      ]
    },
    {
      "cell_type": "markdown",
      "id": "699c884b",
      "metadata": {
        "papermill": {
          "duration": null,
          "end_time": null,
          "exception": null,
          "start_time": null,
          "status": "pending"
        },
        "tags": [],
        "id": "699c884b"
      },
      "source": [
        "# App names and there prices over different year"
      ]
    },
    {
      "cell_type": "code",
      "execution_count": null,
      "id": "c56193d6",
      "metadata": {
        "execution": {
          "iopub.execute_input": "2023-08-18T13:23:31.890022Z",
          "iopub.status.busy": "2023-08-18T13:23:31.889464Z",
          "iopub.status.idle": "2023-08-18T13:23:31.953537Z",
          "shell.execute_reply": "2023-08-18T13:23:31.951606Z",
          "shell.execute_reply.started": "2023-08-18T13:23:31.889977Z"
        },
        "papermill": {
          "duration": null,
          "end_time": null,
          "exception": null,
          "start_time": null,
          "status": "pending"
        },
        "tags": [],
        "id": "c56193d6"
      },
      "outputs": [],
      "source": [
        "\n",
        "subset = df[[\"App_Name\", \"Price\", \"Year\"]]\n",
        "\n",
        "# Filter the subset to include only paid apps\n",
        "paid_apps = subset[subset[\"Price\"] > 0]\n",
        "\n",
        "# Print the information for paid apps (name, price, and year)\n",
        "print(paid_apps)\n",
        "\n",
        "\n"
      ]
    },
    {
      "cell_type": "markdown",
      "id": "74960bd6",
      "metadata": {
        "papermill": {
          "duration": null,
          "end_time": null,
          "exception": null,
          "start_time": null,
          "status": "pending"
        },
        "tags": [],
        "id": "74960bd6"
      },
      "source": [
        "## Project Objective\n",
        "\n",
        "The primary goal of this project is to analyze the Apple App Store dataset and identify useful information. This analysis will provide valuable insights for developers and other stakeholders, helping them understand customer behavior and preferences. By leveraging these insights, they can create better apps that cater to their customers' needs and generate increased business.\n",
        "\n",
        "## EDA Milestones\n",
        "\n",
        "During this Exploratory Data Analysis (EDA) exercise, we have achieved several milestones:\n",
        "\n",
        "1. **Data Cleaning:** We meticulously cleaned the dataset, addressing null values to ensure its quality and integrity for analysis.Feature engineering and making data clean.\n",
        "\n",
        "\n",
        "## Key Findings\n",
        "\n",
        "Our analysis yielded significant findings that shed light on various aspects of the Apple App Store ecosystem:\n",
        "\n",
        "1. **YouTube App Dominance:** The YouTube app stands out as the most popular, boasting the highest number of reviews among all apps.\n",
        "\n",
        "2. **Free App Popularity:** Free apps are more likely to be used compared to paid apps, indicating users' preference for cost-effective options.\n",
        "\n",
        "3. **Gaming and Weather App Appeal:** Weather and gaming app categories are the most frequently used, reflecting their popularity and strong appeal to users.\n",
        "\n",
        "4. **Prolific Developers:** The development efforts of ChowNow developers have resulted in the highest number of app offerings available on the app store.\n",
        "\n",
        "5. **Children's Category Impact:** The Children's category showcases both the largest app count and user engagement, underscoring its significance in the app landscape.\n",
        "\n",
        "6. **Most Developed Year:** Our analysis highlights that the year 2020 witnessed the highest number of app developments, signifying a significant surge in app creation during that period.\n",
        "\n",
        "7. **Rating Distribution:** The distribution of app ratings reveals that most app ratings cluster at either 0 or 5, indicating that users tend to either give extremely low or very high ratings to apps.\n",
        "\n",
        "These insights provide a clearer understanding of user preferences, app trends, developer activities, and the dynamic nature of the Apple App Store ecosystem. Developers and stakeholders can leverage these insights to make informed decisions and enhance their app offerings.\n",
        "\n",
        "By conducting this thorough analysis, we aim to empower app developers and stakeholders to create more successful and user-centric apps in the dynamic and competitive app market.\n"
      ]
    }
  ],
  "metadata": {
    "kernelspec": {
      "display_name": "Python 3",
      "language": "python",
      "name": "python3"
    },
    "language_info": {
      "codemirror_mode": {
        "name": "ipython",
        "version": 3
      },
      "file_extension": ".py",
      "mimetype": "text/x-python",
      "name": "python",
      "nbconvert_exporter": "python",
      "pygments_lexer": "ipython3",
      "version": "3.10.12"
    },
    "papermill": {
      "default_parameters": {},
      "duration": 88.016881,
      "end_time": "2023-08-18T14:58:54.698919",
      "environment_variables": {},
      "exception": true,
      "input_path": "__notebook__.ipynb",
      "output_path": "__notebook__.ipynb",
      "parameters": {},
      "start_time": "2023-08-18T14:57:26.682038",
      "version": "2.4.0"
    },
    "colab": {
      "provenance": []
    }
  },
  "nbformat": 4,
  "nbformat_minor": 5
}